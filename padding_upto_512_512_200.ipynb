{
 "cells": [
  {
   "cell_type": "code",
   "execution_count": 1,
   "metadata": {
    "scrolled": false
   },
   "outputs": [
    {
     "name": "stdout",
     "output_type": "stream",
     "text": [
      "--- 0-th(st|nd|rd) patiend ID: 0_00380215_pred_m.nii ---\n",
      "Original shape: (256, 256, 128)\n",
      "Padded shape: (512, 512, 200)\n",
      "--- 1-th(st|nd|rd) patiend ID: 1_00845284_pred_m.nii ---\n",
      "Original shape: (256, 256, 128)\n",
      "Padded shape: (512, 512, 200)\n",
      "--- 2-th(st|nd|rd) patiend ID: 2_00851307_pred_m.nii ---\n",
      "Original shape: (256, 256, 128)\n",
      "Padded shape: (512, 512, 200)\n",
      "--- 3-th(st|nd|rd) patiend ID: 3_00856195_pred_m.nii ---\n",
      "Original shape: (256, 256, 128)\n",
      "Padded shape: (512, 512, 200)\n",
      "--- 4-th(st|nd|rd) patiend ID: 4_00872925_pred_m.nii ---\n",
      "Original shape: (256, 256, 128)\n",
      "Padded shape: (512, 512, 200)\n",
      "--- 5-th(st|nd|rd) patiend ID: 5_00884299_pred_m.nii ---\n",
      "Original shape: (256, 256, 128)\n",
      "Padded shape: (512, 512, 200)\n",
      "--- 6-th(st|nd|rd) patiend ID: 6_01033170_pred_m.nii ---\n",
      "Original shape: (256, 256, 128)\n",
      "Padded shape: (512, 512, 200)\n",
      "--- 7-th(st|nd|rd) patiend ID: 7_01057900_pred_m.nii ---\n",
      "Original shape: (256, 256, 128)\n",
      "Padded shape: (512, 512, 200)\n",
      "--- 8-th(st|nd|rd) patiend ID: 8_01064464_pred_m.nii ---\n",
      "Original shape: (256, 256, 128)\n",
      "Padded shape: (512, 512, 200)\n",
      "--- 9-th(st|nd|rd) patiend ID: 9_01072851_pred_m.nii ---\n",
      "Original shape: (256, 256, 128)\n",
      "Padded shape: (512, 512, 200)\n"
     ]
    }
   ],
   "source": [
    "import nibabel as nib\n",
    "import numpy as np\n",
    "import os\n",
    "\n",
    "data_path = '/data/Modified_prediction_NIFTI_files_morphology_close_5/'#'/data/vnet_30000_fold4'\n",
    "out_path = '/data/Modified_prediction_NIFTI_files_morphology_close_5/padded_output/'#'/data/vnet_30000_fold4/padded_output/'\n",
    "\n",
    "#data_file_list = [file for file in os.listdir(data_path) if file.endswith('_pred.nii.gz')]\n",
    "data_file_list = [file for file in os.listdir(data_path) if file.endswith('_pred_m.nii')]\n",
    "data_file_list = sorted(data_file_list)\n",
    "# data_file_list = sorted(os.listdir(data_path))\n",
    "\n",
    "for k in range(len(data_file_list)):\n",
    "    print(f\"--- {k}-th(st|nd|rd) patiend ID: {data_file_list[k]} ---\")\n",
    "    # nii.gz 파일 읽기\n",
    "    # file_path = '/data/vnet_30000_fold4/3_00856195_pred.nii.gz'\n",
    "    # img = nib.load(file_path)\n",
    "    file_path = os.path.join(data_path, data_file_list[k])\n",
    "    img = nib.load(file_path)\n",
    "    data = img.get_fdata()\n",
    "\n",
    "    # 패딩할 양 정의\n",
    "    original_xy = 512  # 이교수님께서 annotation 작업 이어서 해주신 뒤에는 내가 데이터로 활용하려면 350으로 나중에 다시 잘라줘야 함\n",
    "    cropped_xy = 256\n",
    "    original_z = 200\n",
    "    cropped_z = 128\n",
    "    padding_amount_xy = int(original_xy/2) - int(cropped_xy/2)\n",
    "    padding_amount_z = int(original_z/2) - int(cropped_z/2)\n",
    "\n",
    "    # 현재 데이터의 형태 확인\n",
    "    original_shape = data.shape\n",
    "    print(\"Original shape:\", original_shape)\n",
    "\n",
    "    # 새로운 형태로 패딩된 배열 생성\n",
    "    # padded_shape = (\n",
    "    #     original_shape[0] + 2 * padding_amount,\n",
    "    #     original_shape[1] + 2 * padding_amount,\n",
    "    #     original_shape[2] + 2 * padding_amount\n",
    "    # )\n",
    "    padded_shape = (original_xy, original_xy, original_z)\n",
    "\n",
    "    # 새로운 형태의 배열 생성 및 초기화 (0으로)\n",
    "    padded_data = np.zeros(padded_shape)\n",
    "\n",
    "    # 기존 데이터를 패딩된 데이터에 복사\n",
    "    padded_data[\n",
    "        padding_amount_xy:padding_amount_xy + original_shape[0],\n",
    "        padding_amount_xy:padding_amount_xy + original_shape[1],\n",
    "        padding_amount_z:padding_amount_z + original_shape[2]\n",
    "    ] = data\n",
    "\n",
    "    # 패딩된 데이터의 형태 확인\n",
    "    print(\"Padded shape:\", padded_data.shape)\n",
    "\n",
    "    # 새로운 파일 경로 정의\n",
    "    output_file_path = os.path.join(out_path, data_file_list[k])\n",
    "\n",
    "    # 새로운 NIfTI 이미지 생성\n",
    "    padded_img = nib.Nifti1Image(padded_data, img.affine)\n",
    "\n",
    "    # 새로운 NIfTI 이미지를 파일로 저장\n",
    "    nib.save(padded_img, output_file_path)"
   ]
  },
  {
   "cell_type": "code",
   "execution_count": 14,
   "metadata": {},
   "outputs": [
    {
     "data": {
      "application/vnd.jupyter.widget-view+json": {
       "model_id": "82fc9fdd32e940eab30af1f11858c7b5",
       "version_major": 2,
       "version_minor": 0
      },
      "text/plain": [
       "interactive(children=(IntSlider(value=63, description='z', max=127), Output()), _dom_classes=('widget-interact…"
      ]
     },
     "metadata": {},
     "output_type": "display_data"
    },
    {
     "data": {
      "application/vnd.jupyter.widget-view+json": {
       "model_id": "947d0a7f4c254a07927186f977e9f6ad",
       "version_major": 2,
       "version_minor": 0
      },
      "text/plain": [
       "interactive(children=(IntSlider(value=99, description='z', max=199), Output()), _dom_classes=('widget-interact…"
      ]
     },
     "metadata": {},
     "output_type": "display_data"
    }
   ],
   "source": [
    "# import matplotlib.pyplot as plt\n",
    "# from ipywidgets import interact\n",
    "\n",
    "# @interact(z=(0,data.shape[2]-1))\n",
    "# def visualize_data(z):\n",
    "# #                     ct_img = ct_img.get_fdata()\n",
    "#     fig, axes = plt.subplots(1, 1, figsize=(10, 10))\n",
    "#     # 첫 번째 subplot에는 원본 이미지를 표시합니다.\n",
    "#     axes.imshow(data[:, :, z], cmap='gray')\n",
    "#     axes.set_title('Original Image slices')\n",
    "#     plt.show()\n",
    "\n",
    "# @interact(z=(0,padded_data.shape[2]-1))\n",
    "# def visualize_data(z):\n",
    "#     fig, axes = plt.subplots(1, 1, figsize=(10, 10))\n",
    "#     # 두 번째 subplot에는 padded 이미지를 표시합니다.\n",
    "#     axes.imshow(padded_data[:, :, z], cmap='gray')\n",
    "#     axes.set_title('Padded Image slices')\n",
    "\n",
    "#     plt.show()"
   ]
  },
  {
   "cell_type": "code",
   "execution_count": null,
   "metadata": {},
   "outputs": [],
   "source": []
  }
 ],
 "metadata": {
  "kernelspec": {
   "display_name": "prostate",
   "language": "python",
   "name": "prostate"
  },
  "language_info": {
   "codemirror_mode": {
    "name": "ipython",
    "version": 3
   },
   "file_extension": ".py",
   "mimetype": "text/x-python",
   "name": "python",
   "nbconvert_exporter": "python",
   "pygments_lexer": "ipython3",
   "version": "3.8.17"
  }
 },
 "nbformat": 4,
 "nbformat_minor": 2
}
