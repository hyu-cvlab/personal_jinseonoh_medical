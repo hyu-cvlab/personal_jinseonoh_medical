{
 "cells": [
  {
   "cell_type": "code",
   "execution_count": 15,
   "metadata": {
    "scrolled": false
   },
   "outputs": [
    {
     "name": "stdout",
     "output_type": "stream",
     "text": [
      "==============================\n",
      "Directory:  /data/hanyang_Prostate/Prostate/prostate_1c_test_result/test_aug5/vnet_30000_fold1/test/\n",
      "Patient id: 0_00800131\n",
      "volume_gt-volume_pred 0.4485120200500461\n",
      "volume_gt-volume_pred2 0.6640640296859708\n",
      "dice 0.8920674701973652\n",
      "dice2 0.866881916545486\n"
     ]
    },
    {
     "data": {
      "application/vnd.jupyter.widget-view+json": {
       "model_id": "cf36897fac8a4f57be7fff96a788135b",
       "version_major": 2,
       "version_minor": 0
      },
      "text/plain": [
       "interactive(children=(IntSlider(value=63, description='z', max=127), Output()), _dom_classes=('widget-interact…"
      ]
     },
     "metadata": {},
     "output_type": "display_data"
    },
    {
     "name": "stdout",
     "output_type": "stream",
     "text": [
      "Patient id: 1_00818049\n",
      "volume_gt-volume_pred 2.915328130325319\n",
      "volume_gt-volume_pred2 1.3568000606536899\n",
      "dice 0.8581988185867264\n",
      "dice2 0.8439374303022996\n",
      "-------------need to check-------------\n"
     ]
    },
    {
     "data": {
      "application/vnd.jupyter.widget-view+json": {
       "model_id": "d074762ae69b4732b7bc0bc8036be2af",
       "version_major": 2,
       "version_minor": 0
      },
      "text/plain": [
       "interactive(children=(IntSlider(value=63, description='z', max=127), Output()), _dom_classes=('widget-interact…"
      ]
     },
     "metadata": {},
     "output_type": "display_data"
    },
    {
     "name": "stdout",
     "output_type": "stream",
     "text": [
      "Patient id: 2_00851016\n",
      "volume_gt-volume_pred 2.4929281114425663\n",
      "volume_gt-volume_pred2 0.3200000143051156\n",
      "dice 0.914673164804054\n",
      "dice2 0.9281650214117695\n"
     ]
    },
    {
     "data": {
      "application/vnd.jupyter.widget-view+json": {
       "model_id": "b36db104e9bc4fcd8277727395f04709",
       "version_major": 2,
       "version_minor": 0
      },
      "text/plain": [
       "interactive(children=(IntSlider(value=63, description='z', max=127), Output()), _dom_classes=('widget-interact…"
      ]
     },
     "metadata": {},
     "output_type": "display_data"
    },
    {
     "name": "stdout",
     "output_type": "stream",
     "text": [
      "Patient id: 3_01054688\n",
      "volume_gt-volume_pred 4.607488205970768\n",
      "volume_gt-volume_pred2 6.666752298027042\n",
      "dice 0.7818760582458517\n",
      "dice2 0.7549166955695146\n"
     ]
    },
    {
     "data": {
      "application/vnd.jupyter.widget-view+json": {
       "model_id": "5b84c00cfea542cbaa743fe6f2c82550",
       "version_major": 2,
       "version_minor": 0
      },
      "text/plain": [
       "interactive(children=(IntSlider(value=63, description='z', max=127), Output()), _dom_classes=('widget-interact…"
      ]
     },
     "metadata": {},
     "output_type": "display_data"
    },
    {
     "name": "stdout",
     "output_type": "stream",
     "text": [
      "Patient id: 4_01094573\n",
      "volume_gt-volume_pred 0.47052802103424085\n",
      "volume_gt-volume_pred2 3.0940161383132967\n",
      "dice 0.9417826690689588\n",
      "dice2 0.9028104440566641\n"
     ]
    },
    {
     "data": {
      "application/vnd.jupyter.widget-view+json": {
       "model_id": "32f222023a284657bd586d719d538e59",
       "version_major": 2,
       "version_minor": 0
      },
      "text/plain": [
       "interactive(children=(IntSlider(value=63, description='z', max=127), Output()), _dom_classes=('widget-interact…"
      ]
     },
     "metadata": {},
     "output_type": "display_data"
    },
    {
     "name": "stdout",
     "output_type": "stream",
     "text": [
      "Patient id: 5_01106379\n",
      "volume_gt-volume_pred 0.6046720270309436\n",
      "volume_gt-volume_pred2 0.8734720390472397\n",
      "dice 0.9480090727840693\n",
      "dice2 0.9413553719008264\n"
     ]
    },
    {
     "data": {
      "application/vnd.jupyter.widget-view+json": {
       "model_id": "3836e84c602a41279fc508466c45e03f",
       "version_major": 2,
       "version_minor": 0
      },
      "text/plain": [
       "interactive(children=(IntSlider(value=63, description='z', max=127), Output()), _dom_classes=('widget-interact…"
      ]
     },
     "metadata": {},
     "output_type": "display_data"
    },
    {
     "name": "stdout",
     "output_type": "stream",
     "text": [
      "Patient id: 6_01115241\n",
      "volume_gt-volume_pred 5.925888264907847\n",
      "volume_gt-volume_pred2 2.057216091964719\n",
      "dice 0.8878564335366719\n",
      "dice2 0.8913158005647575\n"
     ]
    },
    {
     "data": {
      "application/vnd.jupyter.widget-view+json": {
       "model_id": "efa240f5118544b3b4e47c1d1ce17c40",
       "version_major": 2,
       "version_minor": 0
      },
      "text/plain": [
       "interactive(children=(IntSlider(value=63, description='z', max=127), Output()), _dom_classes=('widget-interact…"
      ]
     },
     "metadata": {},
     "output_type": "display_data"
    },
    {
     "name": "stdout",
     "output_type": "stream",
     "text": [
      "Patient id: 7_01228200\n",
      "volume_gt-volume_pred 4.217856188552862\n",
      "volume_gt-volume_pred2 3.5138561570816087\n",
      "dice 0.8799516227903047\n",
      "dice2 0.8620195570749856\n",
      "-------------need to check-------------\n"
     ]
    },
    {
     "data": {
      "application/vnd.jupyter.widget-view+json": {
       "model_id": "1ddf50df02da416ca4e01d5abba25250",
       "version_major": 2,
       "version_minor": 0
      },
      "text/plain": [
       "interactive(children=(IntSlider(value=63, description='z', max=127), Output()), _dom_classes=('widget-interact…"
      ]
     },
     "metadata": {},
     "output_type": "display_data"
    },
    {
     "name": "stdout",
     "output_type": "stream",
     "text": [
      "Patient id: 8_01264293\n",
      "volume_gt-volume_pred 11.343872507110607\n",
      "volume_gt-volume_pred2 6.61606429576112\n",
      "dice 0.8188679245283019\n",
      "dice2 0.8841848548371628\n"
     ]
    },
    {
     "data": {
      "application/vnd.jupyter.widget-view+json": {
       "model_id": "49a18824613e4e48bf68b7fcbd78629d",
       "version_major": 2,
       "version_minor": 0
      },
      "text/plain": [
       "interactive(children=(IntSlider(value=63, description='z', max=127), Output()), _dom_classes=('widget-interact…"
      ]
     },
     "metadata": {},
     "output_type": "display_data"
    },
    {
     "name": "stdout",
     "output_type": "stream",
     "text": [
      "Patient id: 9_01663839\n",
      "volume_gt-volume_pred 1.537024068710327\n",
      "volume_gt-volume_pred2 0.0460800020599379\n",
      "dice 0.922210700953961\n",
      "dice2 0.9132981721555681\n",
      "-------------need to check-------------\n"
     ]
    },
    {
     "data": {
      "application/vnd.jupyter.widget-view+json": {
       "model_id": "413970dd07cd4b15a5c975abe0da0605",
       "version_major": 2,
       "version_minor": 0
      },
      "text/plain": [
       "interactive(children=(IntSlider(value=63, description='z', max=127), Output()), _dom_classes=('widget-interact…"
      ]
     },
     "metadata": {},
     "output_type": "display_data"
    },
    {
     "name": "stdout",
     "output_type": "stream",
     "text": [
      "==============================\n",
      "Directory:  /data/hanyang_Prostate/Prostate/prostate_1c_test_result/test_aug5/vnet_30000_fold2/test/\n",
      "Patient id: 0_01776461\n",
      "volume_gt-volume_pred 2.335232104393011\n",
      "volume_gt-volume_pred2 0.79769603565979\n",
      "dice 0.9161108326040224\n",
      "dice2 0.9058113907899316\n",
      "-------------need to check-------------\n"
     ]
    },
    {
     "data": {
      "application/vnd.jupyter.widget-view+json": {
       "model_id": "8a3c5ab8789d4123ae694e56c234644c",
       "version_major": 2,
       "version_minor": 0
      },
      "text/plain": [
       "interactive(children=(IntSlider(value=63, description='z', max=127), Output()), _dom_classes=('widget-interact…"
      ]
     },
     "metadata": {},
     "output_type": "display_data"
    },
    {
     "name": "stdout",
     "output_type": "stream",
     "text": [
      "Patient id: 1_01804929\n",
      "volume_gt-volume_pred 2.4212481082382205\n",
      "volume_gt-volume_pred2 1.0874880486144995\n",
      "dice 0.8827423227921277\n",
      "dice2 0.90368190060708\n"
     ]
    },
    {
     "data": {
      "application/vnd.jupyter.widget-view+json": {
       "model_id": "7b8f22eca8574d71b139e9ad0356813e",
       "version_major": 2,
       "version_minor": 0
      },
      "text/plain": [
       "interactive(children=(IntSlider(value=63, description='z', max=127), Output()), _dom_classes=('widget-interact…"
      ]
     },
     "metadata": {},
     "output_type": "display_data"
    },
    {
     "name": "stdout",
     "output_type": "stream",
     "text": [
      "Patient id: 2_01904278\n",
      "volume_gt-volume_pred 8.109568362525945\n",
      "volume_gt-volume_pred2 6.787584303428652\n",
      "dice 0.7988710146945285\n",
      "dice2 0.8257029583785835\n"
     ]
    },
    {
     "data": {
      "application/vnd.jupyter.widget-view+json": {
       "model_id": "80b08a6ba82f41d38caa83e2674f3e20",
       "version_major": 2,
       "version_minor": 0
      },
      "text/plain": [
       "interactive(children=(IntSlider(value=63, description='z', max=127), Output()), _dom_classes=('widget-interact…"
      ]
     },
     "metadata": {},
     "output_type": "display_data"
    },
    {
     "name": "stdout",
     "output_type": "stream",
     "text": [
      "Patient id: 3_01972333\n",
      "volume_gt-volume_pred 2.0771840928573617\n",
      "volume_gt-volume_pred2 2.2374401000213595\n",
      "dice 0.9198163624703524\n",
      "dice2 0.9000710299340436\n"
     ]
    },
    {
     "data": {
      "application/vnd.jupyter.widget-view+json": {
       "model_id": "eaeedfb04f4d4d4196207aa73fe1e0fb",
       "version_major": 2,
       "version_minor": 0
      },
      "text/plain": [
       "interactive(children=(IntSlider(value=63, description='z', max=127), Output()), _dom_classes=('widget-interact…"
      ]
     },
     "metadata": {},
     "output_type": "display_data"
    },
    {
     "name": "stdout",
     "output_type": "stream",
     "text": [
      "Patient id: 4_01986175\n",
      "volume_gt-volume_pred 2.444288109268193\n",
      "volume_gt-volume_pred2 3.358720150146482\n",
      "dice 0.8724742661075104\n",
      "dice2 0.8507141760098296\n"
     ]
    },
    {
     "data": {
      "application/vnd.jupyter.widget-view+json": {
       "model_id": "942582ec556549808f9eb8f07183c5c7",
       "version_major": 2,
       "version_minor": 0
      },
      "text/plain": [
       "interactive(children=(IntSlider(value=63, description='z', max=127), Output()), _dom_classes=('widget-interact…"
      ]
     },
     "metadata": {},
     "output_type": "display_data"
    },
    {
     "name": "stdout",
     "output_type": "stream",
     "text": [
      "Patient id: 5_02009786\n",
      "volume_gt-volume_pred 2.676736119659431\n",
      "volume_gt-volume_pred2 3.6490241631240856\n",
      "dice 0.9247615474239222\n",
      "dice2 0.9122381926204484\n"
     ]
    },
    {
     "data": {
      "application/vnd.jupyter.widget-view+json": {
       "model_id": "e37d5ca7615945599c0310d2e439b57a",
       "version_major": 2,
       "version_minor": 0
      },
      "text/plain": [
       "interactive(children=(IntSlider(value=63, description='z', max=127), Output()), _dom_classes=('widget-interact…"
      ]
     },
     "metadata": {},
     "output_type": "display_data"
    },
    {
     "name": "stdout",
     "output_type": "stream",
     "text": [
      "Patient id: 6_02063805\n",
      "volume_gt-volume_pred 9.326080416908269\n",
      "volume_gt-volume_pred2 6.220288278068544\n",
      "dice 0.8579822230117033\n",
      "dice2 0.8634455428608084\n"
     ]
    },
    {
     "data": {
      "application/vnd.jupyter.widget-view+json": {
       "model_id": "6957ce4fbacc4aa78b51221b4e20c807",
       "version_major": 2,
       "version_minor": 0
      },
      "text/plain": [
       "interactive(children=(IntSlider(value=63, description='z', max=127), Output()), _dom_classes=('widget-interact…"
      ]
     },
     "metadata": {},
     "output_type": "display_data"
    },
    {
     "name": "stdout",
     "output_type": "stream",
     "text": [
      "Patient id: 7_02141859\n",
      "volume_gt-volume_pred 1.3946880623474165\n",
      "volume_gt-volume_pred2 0.459776020553587\n",
      "dice 0.8657915672235481\n",
      "dice2 0.8699519979029801\n"
     ]
    },
    {
     "data": {
      "application/vnd.jupyter.widget-view+json": {
       "model_id": "055d5f844c3a47c9b0a94194ed11da0c",
       "version_major": 2,
       "version_minor": 0
      },
      "text/plain": [
       "interactive(children=(IntSlider(value=63, description='z', max=127), Output()), _dom_classes=('widget-interact…"
      ]
     },
     "metadata": {},
     "output_type": "display_data"
    },
    {
     "name": "stdout",
     "output_type": "stream",
     "text": [
      "Patient id: 8_02150142\n",
      "volume_gt-volume_pred 3.791360169487003\n",
      "volume_gt-volume_pred2 1.9609600876617463\n",
      "dice 0.8937044299016238\n",
      "dice2 0.9152964049164662\n"
     ]
    },
    {
     "data": {
      "application/vnd.jupyter.widget-view+json": {
       "model_id": "1e350125e7454d32a2ddc1e434b2241f",
       "version_major": 2,
       "version_minor": 0
      },
      "text/plain": [
       "interactive(children=(IntSlider(value=63, description='z', max=127), Output()), _dom_classes=('widget-interact…"
      ]
     },
     "metadata": {},
     "output_type": "display_data"
    },
    {
     "name": "stdout",
     "output_type": "stream",
     "text": [
      "Patient id: 9_02153845\n",
      "volume_gt-volume_pred 2.2686721014175433\n",
      "volume_gt-volume_pred2 0.3159040141220082\n",
      "dice 0.8800940121297259\n",
      "dice2 0.8986345010083883\n"
     ]
    },
    {
     "data": {
      "application/vnd.jupyter.widget-view+json": {
       "model_id": "718888cd97184eddb7a7a3b8e7c4196d",
       "version_major": 2,
       "version_minor": 0
      },
      "text/plain": [
       "interactive(children=(IntSlider(value=63, description='z', max=127), Output()), _dom_classes=('widget-interact…"
      ]
     },
     "metadata": {},
     "output_type": "display_data"
    },
    {
     "name": "stdout",
     "output_type": "stream",
     "text": [
      "==============================\n",
      "Directory:  /data/hanyang_Prostate/Prostate/prostate_1c_test_result/test_aug5/vnet_30000_fold3/test/\n",
      "Patient id: 0_02161060\n",
      "volume_gt-volume_pred 3.1022081386795044\n",
      "volume_gt-volume_pred2 1.4382080642929083\n",
      "dice 0.8375118698086641\n",
      "dice2 0.8261041768040829\n",
      "-------------need to check-------------\n"
     ]
    },
    {
     "data": {
      "application/vnd.jupyter.widget-view+json": {
       "model_id": "8fd7c279270c4817a9e76e5811b30b90",
       "version_major": 2,
       "version_minor": 0
      },
      "text/plain": [
       "interactive(children=(IntSlider(value=63, description='z', max=127), Output()), _dom_classes=('widget-interact…"
      ]
     },
     "metadata": {},
     "output_type": "display_data"
    },
    {
     "name": "stdout",
     "output_type": "stream",
     "text": [
      "Patient id: 1_02179375\n",
      "volume_gt-volume_pred 0.05580800249481044\n",
      "volume_gt-volume_pred2 3.164672141471865\n",
      "dice 0.9406765144903303\n",
      "dice2 0.8837951719344015\n"
     ]
    },
    {
     "data": {
      "application/vnd.jupyter.widget-view+json": {
       "model_id": "d4d97fcc8bd6447eadb34c4d46c20861",
       "version_major": 2,
       "version_minor": 0
      },
      "text/plain": [
       "interactive(children=(IntSlider(value=63, description='z', max=127), Output()), _dom_classes=('widget-interact…"
      ]
     },
     "metadata": {},
     "output_type": "display_data"
    },
    {
     "name": "stdout",
     "output_type": "stream",
     "text": [
      "Patient id: 2_02179650\n",
      "volume_gt-volume_pred 11.808768527893072\n",
      "volume_gt-volume_pred2 13.110784586097726\n",
      "dice 0.7622963877494126\n",
      "dice2 0.7507744297381019\n"
     ]
    },
    {
     "data": {
      "application/vnd.jupyter.widget-view+json": {
       "model_id": "e11a16f013c1493baad93d52f8b78542",
       "version_major": 2,
       "version_minor": 0
      },
      "text/plain": [
       "interactive(children=(IntSlider(value=63, description='z', max=127), Output()), _dom_classes=('widget-interact…"
      ]
     },
     "metadata": {},
     "output_type": "display_data"
    },
    {
     "name": "stdout",
     "output_type": "stream",
     "text": [
      "Patient id: 3_02286469\n",
      "volume_gt-volume_pred 4.459520199356081\n",
      "volume_gt-volume_pred2 4.2680321907959\n",
      "dice 0.8120423108218063\n",
      "dice2 0.8064252270547752\n",
      "-------------need to check-------------\n"
     ]
    },
    {
     "data": {
      "application/vnd.jupyter.widget-view+json": {
       "model_id": "af343061791d414fa730b7a4e01e0b32",
       "version_major": 2,
       "version_minor": 0
      },
      "text/plain": [
       "interactive(children=(IntSlider(value=63, description='z', max=127), Output()), _dom_classes=('widget-interact…"
      ]
     },
     "metadata": {},
     "output_type": "display_data"
    },
    {
     "name": "stdout",
     "output_type": "stream",
     "text": [
      "Patient id: 4_02289873\n",
      "volume_gt-volume_pred 7.916032353874215\n",
      "volume_gt-volume_pred2 0.4111360183792101\n",
      "dice 0.8278116151822212\n",
      "dice2 0.8138109323330928\n",
      "-------------need to check-------------\n"
     ]
    },
    {
     "data": {
      "application/vnd.jupyter.widget-view+json": {
       "model_id": "5a6b31c2f5aa4395aefc2514d5cd79af",
       "version_major": 2,
       "version_minor": 0
      },
      "text/plain": [
       "interactive(children=(IntSlider(value=63, description='z', max=127), Output()), _dom_classes=('widget-interact…"
      ]
     },
     "metadata": {},
     "output_type": "display_data"
    },
    {
     "name": "stdout",
     "output_type": "stream",
     "text": [
      "Patient id: 5_02348071\n",
      "volume_gt-volume_pred 0.5606400250625612\n",
      "volume_gt-volume_pred2 3.1595521412429832\n",
      "dice 0.9007384058605493\n",
      "dice2 0.8783478145180272\n"
     ]
    },
    {
     "data": {
      "application/vnd.jupyter.widget-view+json": {
       "model_id": "28ebef883eb64faa9a7795ffe761be35",
       "version_major": 2,
       "version_minor": 0
      },
      "text/plain": [
       "interactive(children=(IntSlider(value=63, description='z', max=127), Output()), _dom_classes=('widget-interact…"
      ]
     },
     "metadata": {},
     "output_type": "display_data"
    },
    {
     "name": "stdout",
     "output_type": "stream",
     "text": [
      "Patient id: 6_02394910\n",
      "volume_gt-volume_pred 9.684992432952882\n",
      "volume_gt-volume_pred2 6.321152282577515\n",
      "dice 0.863912588538313\n",
      "dice2 0.8631533839126582\n",
      "-------------need to check-------------\n"
     ]
    },
    {
     "data": {
      "application/vnd.jupyter.widget-view+json": {
       "model_id": "aaf682ffd149456ba9a8cbe0b508eff6",
       "version_major": 2,
       "version_minor": 0
      },
      "text/plain": [
       "interactive(children=(IntSlider(value=63, description='z', max=127), Output()), _dom_classes=('widget-interact…"
      ]
     },
     "metadata": {},
     "output_type": "display_data"
    },
    {
     "name": "stdout",
     "output_type": "stream",
     "text": [
      "Patient id: 7_02572186\n",
      "volume_gt-volume_pred 1.7786880795135502\n",
      "volume_gt-volume_pred2 5.114368228630077\n",
      "dice 0.8868277205327972\n",
      "dice2 0.8784172500616394\n"
     ]
    },
    {
     "data": {
      "application/vnd.jupyter.widget-view+json": {
       "model_id": "55d22d7d0066440bb5ab8f2ef69764c7",
       "version_major": 2,
       "version_minor": 0
      },
      "text/plain": [
       "interactive(children=(IntSlider(value=63, description='z', max=127), Output()), _dom_classes=('widget-interact…"
      ]
     },
     "metadata": {},
     "output_type": "display_data"
    },
    {
     "name": "stdout",
     "output_type": "stream",
     "text": [
      "Patient id: 8_02573669\n",
      "volume_gt-volume_pred 0.8017920358428938\n",
      "volume_gt-volume_pred2 3.433984153511048\n",
      "dice 0.9368495519572394\n",
      "dice2 0.914522563258218\n"
     ]
    },
    {
     "data": {
      "application/vnd.jupyter.widget-view+json": {
       "model_id": "5585554dc65440cdb567f25113708865",
       "version_major": 2,
       "version_minor": 0
      },
      "text/plain": [
       "interactive(children=(IntSlider(value=63, description='z', max=127), Output()), _dom_classes=('widget-interact…"
      ]
     },
     "metadata": {},
     "output_type": "display_data"
    },
    {
     "name": "stdout",
     "output_type": "stream",
     "text": [
      "Patient id: 9_02603745\n",
      "volume_gt-volume_pred 0.27238401217651464\n",
      "volume_gt-volume_pred2 3.7012481654586793\n",
      "dice 0.8075008978502899\n",
      "dice2 0.7643069550520933\n"
     ]
    },
    {
     "data": {
      "application/vnd.jupyter.widget-view+json": {
       "model_id": "cb93dd80b90d43139554ec3eb59e0026",
       "version_major": 2,
       "version_minor": 0
      },
      "text/plain": [
       "interactive(children=(IntSlider(value=63, description='z', max=127), Output()), _dom_classes=('widget-interact…"
      ]
     },
     "metadata": {},
     "output_type": "display_data"
    },
    {
     "name": "stdout",
     "output_type": "stream",
     "text": [
      "==============================\n",
      "Directory:  /data/hanyang_Prostate/Prostate/prostate_1c_test_result/test_aug5/vnet_30000_fold4/test/\n",
      "Patient id: 0_02610498\n",
      "volume_gt-volume_pred 4.402688196815493\n",
      "volume_gt-volume_pred2 5.842432261177066\n",
      "dice 0.8540234969199401\n",
      "dice2 0.8083346421653317\n"
     ]
    },
    {
     "data": {
      "application/vnd.jupyter.widget-view+json": {
       "model_id": "81ddf11f105a484da014d9f01305aca9",
       "version_major": 2,
       "version_minor": 0
      },
      "text/plain": [
       "interactive(children=(IntSlider(value=63, description='z', max=127), Output()), _dom_classes=('widget-interact…"
      ]
     },
     "metadata": {},
     "output_type": "display_data"
    },
    {
     "name": "stdout",
     "output_type": "stream",
     "text": [
      "Patient id: 1_02744296\n",
      "volume_gt-volume_pred 1.5493120692596491\n",
      "volume_gt-volume_pred2 3.243520144996644\n",
      "dice 0.9324489943046644\n",
      "dice2 0.9201676627842873\n"
     ]
    },
    {
     "data": {
      "application/vnd.jupyter.widget-view+json": {
       "model_id": "f643fe4cf5354c3898990581d89c39c5",
       "version_major": 2,
       "version_minor": 0
      },
      "text/plain": [
       "interactive(children=(IntSlider(value=63, description='z', max=127), Output()), _dom_classes=('widget-interact…"
      ]
     },
     "metadata": {},
     "output_type": "display_data"
    },
    {
     "name": "stdout",
     "output_type": "stream",
     "text": [
      "Patient id: 2_02786444\n",
      "volume_gt-volume_pred 2.086400093269347\n",
      "volume_gt-volume_pred2 1.5109120675430283\n",
      "dice 0.8504438075276828\n",
      "dice2 0.8472661603289061\n",
      "-------------need to check-------------\n"
     ]
    },
    {
     "data": {
      "application/vnd.jupyter.widget-view+json": {
       "model_id": "34020176a38c44ba84bf8f5b1e099fc1",
       "version_major": 2,
       "version_minor": 0
      },
      "text/plain": [
       "interactive(children=(IntSlider(value=63, description='z', max=127), Output()), _dom_classes=('widget-interact…"
      ]
     },
     "metadata": {},
     "output_type": "display_data"
    },
    {
     "name": "stdout",
     "output_type": "stream",
     "text": [
      "Patient id: 3_02793452\n",
      "volume_gt-volume_pred 7.069184316017154\n",
      "volume_gt-volume_pred2 3.420160152893068\n",
      "dice 0.8058979057957836\n",
      "dice2 0.8871899249459356\n"
     ]
    },
    {
     "data": {
      "application/vnd.jupyter.widget-view+json": {
       "model_id": "cba7ad84b5a54cfd80f7198b2e1f9ee7",
       "version_major": 2,
       "version_minor": 0
      },
      "text/plain": [
       "interactive(children=(IntSlider(value=63, description='z', max=127), Output()), _dom_classes=('widget-interact…"
      ]
     },
     "metadata": {},
     "output_type": "display_data"
    },
    {
     "name": "stdout",
     "output_type": "stream",
     "text": [
      "Patient id: 4_02820034\n",
      "volume_gt-volume_pred 0.33382401492309555\n",
      "volume_gt-volume_pred2 0.14950400668335107\n",
      "dice 0.9175968095901078\n",
      "dice2 0.9184539185250137\n"
     ]
    },
    {
     "data": {
      "application/vnd.jupyter.widget-view+json": {
       "model_id": "107a17fe854247b7857f0f25ad5224cf",
       "version_major": 2,
       "version_minor": 0
      },
      "text/plain": [
       "interactive(children=(IntSlider(value=63, description='z', max=127), Output()), _dom_classes=('widget-interact…"
      ]
     },
     "metadata": {},
     "output_type": "display_data"
    },
    {
     "name": "stdout",
     "output_type": "stream",
     "text": [
      "Patient id: 5_02882776\n",
      "volume_gt-volume_pred 0.9441280422058114\n",
      "volume_gt-volume_pred2 3.382272151199345\n",
      "dice 0.9360059696883926\n",
      "dice2 0.9081078459897197\n"
     ]
    },
    {
     "data": {
      "application/vnd.jupyter.widget-view+json": {
       "model_id": "950d0a594f7042d1abba9f04a879386b",
       "version_major": 2,
       "version_minor": 0
      },
      "text/plain": [
       "interactive(children=(IntSlider(value=63, description='z', max=127), Output()), _dom_classes=('widget-interact…"
      ]
     },
     "metadata": {},
     "output_type": "display_data"
    },
    {
     "name": "stdout",
     "output_type": "stream",
     "text": [
      "Patient id: 6_02948957\n",
      "volume_gt-volume_pred 3.266560146026613\n",
      "volume_gt-volume_pred2 7.331328327735903\n",
      "dice 0.9376260409499633\n",
      "dice2 0.8869330312404688\n"
     ]
    },
    {
     "data": {
      "application/vnd.jupyter.widget-view+json": {
       "model_id": "eea8044603184b678f60da9551e10b1c",
       "version_major": 2,
       "version_minor": 0
      },
      "text/plain": [
       "interactive(children=(IntSlider(value=63, description='z', max=127), Output()), _dom_classes=('widget-interact…"
      ]
     },
     "metadata": {},
     "output_type": "display_data"
    },
    {
     "name": "stdout",
     "output_type": "stream",
     "text": [
      "Patient id: 7_02949843\n",
      "volume_gt-volume_pred 1.3742080614318866\n",
      "volume_gt-volume_pred2 0.3189760142593414\n",
      "dice 0.9279202521939167\n",
      "dice2 0.9255400364992693\n",
      "-------------need to check-------------\n"
     ]
    },
    {
     "data": {
      "application/vnd.jupyter.widget-view+json": {
       "model_id": "f3da9481676f4504b43d133a58273d10",
       "version_major": 2,
       "version_minor": 0
      },
      "text/plain": [
       "interactive(children=(IntSlider(value=63, description='z', max=127), Output()), _dom_classes=('widget-interact…"
      ]
     },
     "metadata": {},
     "output_type": "display_data"
    },
    {
     "name": "stdout",
     "output_type": "stream",
     "text": [
      "Patient id: 8_02951189\n",
      "volume_gt-volume_pred 3.7288961666946427\n",
      "volume_gt-volume_pred2 0.4561920203933667\n",
      "dice 0.8916883553849047\n",
      "dice2 0.91596474409687\n"
     ]
    },
    {
     "data": {
      "application/vnd.jupyter.widget-view+json": {
       "model_id": "62f93ac19afd4c24b3db3656329f88aa",
       "version_major": 2,
       "version_minor": 0
      },
      "text/plain": [
       "interactive(children=(IntSlider(value=63, description='z', max=127), Output()), _dom_classes=('widget-interact…"
      ]
     },
     "metadata": {},
     "output_type": "display_data"
    },
    {
     "name": "stdout",
     "output_type": "stream",
     "text": [
      "Patient id: 9_02951192\n",
      "volume_gt-volume_pred 5.231104233848573\n",
      "volume_gt-volume_pred2 4.406784196998597\n",
      "dice 0.8713293540348203\n",
      "dice2 0.8768805804985598\n"
     ]
    },
    {
     "data": {
      "application/vnd.jupyter.widget-view+json": {
       "model_id": "220d55b4f4a2477e9bfab34c6e0b7c4a",
       "version_major": 2,
       "version_minor": 0
      },
      "text/plain": [
       "interactive(children=(IntSlider(value=63, description='z', max=127), Output()), _dom_classes=('widget-interact…"
      ]
     },
     "metadata": {},
     "output_type": "display_data"
    },
    {
     "name": "stdout",
     "output_type": "stream",
     "text": [
      "==============================\n",
      "Directory:  /data/hanyang_Prostate/Prostate/prostate_1c_test_result/test_aug5/vnet_30000_fold5/test/\n",
      "Patient id: 0_02953538\n",
      "volume_gt-volume_pred 0.2186240097732579\n",
      "volume_gt-volume_pred2 4.344320194206247\n",
      "dice 0.8984804922329206\n",
      "dice2 0.8529524123414806\n"
     ]
    },
    {
     "data": {
      "application/vnd.jupyter.widget-view+json": {
       "model_id": "0fdacef3e6c84d54b75b4546ff2a71bb",
       "version_major": 2,
       "version_minor": 0
      },
      "text/plain": [
       "interactive(children=(IntSlider(value=63, description='z', max=127), Output()), _dom_classes=('widget-interact…"
      ]
     },
     "metadata": {},
     "output_type": "display_data"
    },
    {
     "name": "stdout",
     "output_type": "stream",
     "text": [
      "Patient id: 1_02953540\n",
      "volume_gt-volume_pred 2.1299200952148425\n",
      "volume_gt-volume_pred2 1.4561280650939956\n",
      "dice 0.8806677018633541\n",
      "dice2 0.8471156991748755\n",
      "-------------need to check-------------\n"
     ]
    },
    {
     "data": {
      "application/vnd.jupyter.widget-view+json": {
       "model_id": "e32f29f3fdd345b78c686e278f7f226a",
       "version_major": 2,
       "version_minor": 0
      },
      "text/plain": [
       "interactive(children=(IntSlider(value=63, description='z', max=127), Output()), _dom_classes=('widget-interact…"
      ]
     },
     "metadata": {},
     "output_type": "display_data"
    },
    {
     "name": "stdout",
     "output_type": "stream",
     "text": [
      "Patient id: 2_02953784\n",
      "volume_gt-volume_pred 4.992512223182686\n",
      "volume_gt-volume_pred2 4.130304184638984\n",
      "dice 0.9116453926916064\n",
      "dice2 0.9070071569536581\n",
      "-------------need to check-------------\n"
     ]
    },
    {
     "data": {
      "application/vnd.jupyter.widget-view+json": {
       "model_id": "9c71582e8f764ababe2f0b3164155812",
       "version_major": 2,
       "version_minor": 0
      },
      "text/plain": [
       "interactive(children=(IntSlider(value=63, description='z', max=127), Output()), _dom_classes=('widget-interact…"
      ]
     },
     "metadata": {},
     "output_type": "display_data"
    },
    {
     "name": "stdout",
     "output_type": "stream",
     "text": [
      "Patient id: 3_02953958\n",
      "volume_gt-volume_pred 6.25664027969361\n",
      "volume_gt-volume_pred2 4.617728206428527\n",
      "dice 0.8808680248007086\n",
      "dice2 0.8877292824935429\n"
     ]
    },
    {
     "data": {
      "application/vnd.jupyter.widget-view+json": {
       "model_id": "b6f55c8fbf26410f9cba35a3b2fa658e",
       "version_major": 2,
       "version_minor": 0
      },
      "text/plain": [
       "interactive(children=(IntSlider(value=63, description='z', max=127), Output()), _dom_classes=('widget-interact…"
      ]
     },
     "metadata": {},
     "output_type": "display_data"
    },
    {
     "name": "stdout",
     "output_type": "stream",
     "text": [
      "Patient id: 4_02954359\n",
      "volume_gt-volume_pred 1.7413120778427142\n",
      "volume_gt-volume_pred2 2.02700809061432\n",
      "dice 0.9278691018133223\n",
      "dice2 0.8767049320187043\n"
     ]
    },
    {
     "data": {
      "application/vnd.jupyter.widget-view+json": {
       "model_id": "cc2ceecaaabd4a0e80d5f51211d13158",
       "version_major": 2,
       "version_minor": 0
      },
      "text/plain": [
       "interactive(children=(IntSlider(value=63, description='z', max=127), Output()), _dom_classes=('widget-interact…"
      ]
     },
     "metadata": {},
     "output_type": "display_data"
    },
    {
     "name": "stdout",
     "output_type": "stream",
     "text": [
      "Patient id: 5_02954360\n",
      "volume_gt-volume_pred 5.489152245384222\n",
      "volume_gt-volume_pred2 4.521472202125555\n",
      "dice 0.8803917297903406\n",
      "dice2 0.9050486184496163\n"
     ]
    },
    {
     "data": {
      "application/vnd.jupyter.widget-view+json": {
       "model_id": "e18530bf20ad43568932bcea94af11f7",
       "version_major": 2,
       "version_minor": 0
      },
      "text/plain": [
       "interactive(children=(IntSlider(value=63, description='z', max=127), Output()), _dom_classes=('widget-interact…"
      ]
     },
     "metadata": {},
     "output_type": "display_data"
    },
    {
     "name": "stdout",
     "output_type": "stream",
     "text": [
      "Patient id: 6_02954361\n",
      "volume_gt-volume_pred 1.6942080757370022\n",
      "volume_gt-volume_pred2 1.059328047355656\n",
      "dice 0.9146351368599376\n",
      "dice2 0.9137657017058498\n",
      "-------------need to check-------------\n"
     ]
    },
    {
     "data": {
      "application/vnd.jupyter.widget-view+json": {
       "model_id": "92cb6ea514ce4ffe84c60bbc9e47afbc",
       "version_major": 2,
       "version_minor": 0
      },
      "text/plain": [
       "interactive(children=(IntSlider(value=63, description='z', max=127), Output()), _dom_classes=('widget-interact…"
      ]
     },
     "metadata": {},
     "output_type": "display_data"
    },
    {
     "name": "stdout",
     "output_type": "stream",
     "text": [
      "Patient id: 7_02954978\n",
      "volume_gt-volume_pred 5.858816261909485\n",
      "volume_gt-volume_pred2 6.018048269027709\n",
      "dice 0.8665750224803878\n",
      "dice2 0.854894234757362\n"
     ]
    },
    {
     "data": {
      "application/vnd.jupyter.widget-view+json": {
       "model_id": "c818e17a7aad4d1f8e524a6e64fb6be8",
       "version_major": 2,
       "version_minor": 0
      },
      "text/plain": [
       "interactive(children=(IntSlider(value=63, description='z', max=127), Output()), _dom_classes=('widget-interact…"
      ]
     },
     "metadata": {},
     "output_type": "display_data"
    },
    {
     "name": "stdout",
     "output_type": "stream",
     "text": [
      "Patient id: 8_02955289\n",
      "volume_gt-volume_pred 0.14796800661468268\n",
      "volume_gt-volume_pred2 2.297856102722168\n",
      "dice 0.8293212566252839\n",
      "dice2 0.7487157664366698\n"
     ]
    },
    {
     "data": {
      "application/vnd.jupyter.widget-view+json": {
       "model_id": "567382ded0774f1a95143349a3d36e4f",
       "version_major": 2,
       "version_minor": 0
      },
      "text/plain": [
       "interactive(children=(IntSlider(value=63, description='z', max=127), Output()), _dom_classes=('widget-interact…"
      ]
     },
     "metadata": {},
     "output_type": "display_data"
    },
    {
     "name": "stdout",
     "output_type": "stream",
     "text": [
      "Patient id: 9_02955569\n",
      "volume_gt-volume_pred 1.576448070472729\n",
      "volume_gt-volume_pred2 3.062272136894226\n",
      "dice 0.9248562652009312\n",
      "dice2 0.9239087958273852\n"
     ]
    },
    {
     "data": {
      "application/vnd.jupyter.widget-view+json": {
       "model_id": "8585394f5e124e85be00fc3ee9cd28ee",
       "version_major": 2,
       "version_minor": 0
      },
      "text/plain": [
       "interactive(children=(IntSlider(value=63, description='z', max=127), Output()), _dom_classes=('widget-interact…"
      ]
     },
     "metadata": {},
     "output_type": "display_data"
    },
    {
     "name": "stdout",
     "output_type": "stream",
     "text": [
      "0\n"
     ]
    }
   ],
   "source": [
    "import os\n",
    "# import monai\n",
    "import nibabel as nib\n",
    "import numpy as np\n",
    "import matplotlib.pyplot as plt\n",
    "from ipywidgets import interact\n",
    "from medpy import metric\n",
    "#%matplotlib inline\n",
    "# from monai.transforms import Compose, LoadImaged, EnsureChannelFirstd, Orientationd, Spacingd\n",
    "# from monai.data import (\n",
    "#     DataLoader,\n",
    "#     CacheDataset,\n",
    "#     load_decathlon_datalist,\n",
    "# )\n",
    "# import pandas as pd\n",
    "# import matplotlib.pyplot as plt\n",
    "# import SimpleITK as sitk\n",
    "# from monai.transforms import (\n",
    "#     EnsureChannelFirstd,\n",
    "#     Compose,\n",
    "#     LoadImaged,\n",
    "#     Orientationd,\n",
    "#     RandFlipd,\n",
    "#     Spacingd,\n",
    "#     RandRotate90d,\n",
    "#     CenterSpatialCropd,\n",
    "#     RandSpatialCropd\n",
    "# )\n",
    "# # Enable deterministic training for reproducibility\n",
    "# monai.config.print_config()\n",
    "# monai.utils.set_determinism(seed=0)\n",
    "\n",
    "def read_nifti_spacing_and_mask_count(nifti_file_path):\n",
    "    try:\n",
    "        # NIfTI 파일 열기\n",
    "        img = nib.load(nifti_file_path)\n",
    "\n",
    "        # spacing 정보 추출\n",
    "        spacing = img.header.get_zooms()\n",
    "        mask_voxel_count = np.count_nonzero(img.get_fdata()!=0)\n",
    "        return mask_voxel_count, spacing[0], spacing[1], spacing[2]\n",
    "    except Exception as e:\n",
    "        print(f\"Error reading NIfTI file: {str(e)}\")\n",
    "        return None\n",
    "\n",
    "# Define a function to calculate the volume\n",
    "def calculate_volume(mask_voxel_count, pixel_spacing_x, pixel_spacing_y, slice_gap):\n",
    "#     return np.round((mask_voxel_count * pixel_spacing_x * pixel_spacing_y * slice_gap)/1000, 2)  ## mm3 to cc\n",
    "    return (mask_voxel_count * pixel_spacing_x * pixel_spacing_y * slice_gap)/1000\n",
    "\n",
    "\n",
    "# directory_path = \"/data/hanyang_Prostate/50_example/trim/sl_data_wo_norm_morphol/centerCrop_350_350_200/label_trim/\"#\"/data/hanyang_Prostate/50_example/original/1_50_trim_20230130/Total volume/\"\n",
    "# class_name = 1\n",
    "\n",
    "# if class_name == 1:\n",
    "#     datasets = \"/data/hanyang_Prostate/50_example/trim/sl_data/centerCrop_350_350_200/dataset_fold_testjinjin.json\"\n",
    "#     print(\"total_prostate test : dataset.json\")\n",
    "# # if args.class_name == 2:\n",
    "# #     datasets = args.root_path + \"/dataset_2_fold{}.json\".format(args.fold)\n",
    "# #     print(\"transition zone train :dataset_2.json\")\n",
    "# files = load_decathlon_datalist(datasets, True, \"training\")\n",
    "\n",
    "# transforms = Compose(\n",
    "#         [\n",
    "#             LoadImaged(keys=[\"image\", \"label\"]),\n",
    "#             EnsureChannelFirstd(keys=[\"image\", \"label\"]),\n",
    "#             Orientationd(keys=[\"image\", \"label\"], axcodes=\"RAI\"),       #ALI\n",
    "#             Spacingd(\n",
    "#                 keys=[\"image\", \"label\"],\n",
    "#                 pixdim=(0.8,0.8,0.8),\n",
    "#                 mode=(\"bilinear\", \"nearest\"),\n",
    "#             ),\n",
    "#             CenterSpatialCropd(keys=['image', 'label'], roi_size=(176,176,128)),\n",
    "# #             RandSpatialCropd(keys=['image', 'label'], roi_size=(256,256,128), random_size=False),#roi_size=(272,272,144), random_size=False),\n",
    "#             RandFlipd(\n",
    "#                 keys=[\"image\", \"label\"],\n",
    "#                 spatial_axis=[0],\n",
    "#                 prob=0.10,\n",
    "#             ),\n",
    "#             RandFlipd(\n",
    "#                 keys=[\"image\", \"label\"],\n",
    "#                 spatial_axis=[1],\n",
    "#                 prob=0.10,\n",
    "#             ),\n",
    "#             RandFlipd(\n",
    "#                 keys=[\"image\", \"label\"],\n",
    "#                 spatial_axis=[2],\n",
    "#                 prob=0.10,\n",
    "#             ),\n",
    "#             RandRotate90d(\n",
    "#                 keys=[\"image\", \"label\"],\n",
    "#                 prob=0.10,\n",
    "#                 max_k=3,\n",
    "#             ),\n",
    "\n",
    "#         ]\n",
    "# )\n",
    "\n",
    "# db = CacheDataset(\n",
    "#     data=files, transform=transforms, cache_num=6, cache_rate=1.0, num_workers=4\n",
    "# )\n",
    "# print(len(db))\n",
    "# for _ in range(len(db)):\n",
    "       \n",
    "#     mask_voxel_count2 = np.count_nonzero(db[_]['label'][0]!=0)\n",
    "#     volume2 = calculate_volume(mask_voxel_count2, transforms.transforms[3].spacing_transform.pixdim[0], transforms.transforms[3].spacing_transform.pixdim[1], transforms.transforms[3].spacing_transform.pixdim[2])\n",
    "    \n",
    "#     tmp_itk = sitk.GetImageFromArray(db[_]['label'][0])\n",
    "#     tmp_itk.SetSpacing((0.8 ,0.8 ,0.8))\n",
    "#     sitk.WriteImage(tmp_itk, \"tmp.nii.gz\")\n",
    "#     tmp_mask_voxel_count, tmp_pixel_spacing_x, tmp_pixel_spacing_y, tmp_slice_gap = read_nifti_spacing_and_mask_count(\"tmp.nii.gz\")\n",
    "#     tmp_volume = calculate_volume(tmp_mask_voxel_count, tmp_pixel_spacing_x, tmp_pixel_spacing_y, tmp_slice_gap)\n",
    "    \n",
    "#     print(db[_].keys())\n",
    "#     no = db[_]['label_meta_dict']['filename_or_obj'].split('/')[-1][:8]\n",
    "    \n",
    "#     original_nifti_file_path=''\n",
    "#     # 디렉토리 탐색\n",
    "#     for root, dirs, files in os.walk(directory_path):\n",
    "#         for file in files:\n",
    "#             if no in file:\n",
    "#                 # 검색한 문자열을 포함한 파일의 전체 경로 출력\n",
    "#                 original_nifti_file_path = os.path.join(root, file)\n",
    "# #                 print(\"\\t Original file name:\", original_nifti_file_path)\n",
    "                \n",
    "#     mask_voxel_count, pixel_spacing_x, pixel_spacing_y, slice_gap = read_nifti_spacing_and_mask_count(original_nifti_file_path)\n",
    "#     volume = calculate_volume(mask_voxel_count, pixel_spacing_x, pixel_spacing_y, slice_gap)\n",
    "    \n",
    "#     print(f\"No: {no}, Volume: {np.round(volume,1)} (cc), Transformed Volume: {np.round(volume2,1)} (cc)\")\n",
    "#     print(f\"tmp_volume: {np.round(tmp_volume,1)} (cc)\")\n",
    "#     print(f\"\\t Original Pixel Spacing (x): {np.round(float(pixel_spacing_x),3)}\")\n",
    "#     print(f\"\\t Original Pixel Spacing (y): {np.round(float(pixel_spacing_y),3)}\")\n",
    "#     print(f\"\\t Original Slice Gap: {np.round(float(slice_gap),3)}\")\n",
    "#     print('------------------------------------------------------')\n",
    "# # print('done')\n",
    "\n",
    "\n",
    "# import os\n",
    "# import numpy as np\n",
    "\n",
    "# 디렉토리 경로 설정\n",
    "base_directory = '/data/hanyang_Prostate/Prostate/prostate_1c_test_result/test_aug5/'\n",
    "base_directory2 = '/data/hanyang_Prostate/Prostate/prostate_1c_test_result/test_morph_close5/'\n",
    "directory_paths = [os.path.join(base_directory, f'vnet_30000_fold{i}/test/') for i in range(1, 6)]\n",
    "directory_paths2 = [os.path.join(base_directory2, f'vnet_30000_fold{i}/test/') for i in range(1, 6)]\n",
    "# directory_path_realgt = '/data/hanyang_Prostate/50_example/original/1_50_trim_20230130/Total volume/'\n",
    "\n",
    "# 초기화할 리스트\n",
    "a_lists = [[] for _ in range(5)]  # 각 폴드의 volume_gt 리스트\n",
    "b_lists = [[] for _ in range(5)]  # 각 폴드의 volume_pred 리스트\n",
    "# c_lists = [[] for _ in range(5)]  # 각 폴드의 volume_realgt 리스트\n",
    "d_lists = [[] for _ in range(5)]  # 각 폴드의 volume_TRUS 리스트\n",
    "cnt = 0\n",
    "# 디렉토리별로 처리\n",
    "for fold_idx, directory_path in enumerate(directory_paths, start=1):\n",
    "    print(\"==============================\\nDirectory: \", directory_path)\n",
    "    # 디렉토리 내의 모든 파일 검색\n",
    "    for filename in os.listdir(directory_path):\n",
    "        # 파일 이름이 \"_gt.nii.gz\"로 끝나는 경우에만 처리\n",
    "        if filename.endswith('_gt.nii.gz'):\n",
    "            print(\"Patient id:\",filename[:-10])\n",
    "            # 파일의 전체 경로 생성\n",
    "            gt_file_path = os.path.join(directory_path, filename)\n",
    "            \n",
    "            # 해당 _gt 파일과 동일한 이름 구조를 가진 _pred 파일 찾기\n",
    "            pred_filename = filename.replace('_gt.nii.gz', '_pred.nii.gz')\n",
    "            pred_file_path = os.path.join(directory_path, pred_filename)\n",
    "            pred_file_path2 = os.path.join(directory_paths2[fold_idx-1], pred_filename)\n",
    "            \n",
    "            # 해당 _gt 파일과 동일한 이름 구조를 가진 _image 파일 찾기\n",
    "            img_filename = filename.replace('_gt.nii.gz', '_img.nii.gz')\n",
    "            img_file_path = os.path.join(directory_path, img_filename)\n",
    "    \n",
    "            # _pred 파일이 존재하면 계산 수행\n",
    "            if os.path.exists(pred_file_path):\n",
    "                # NIfTI 파일 열기\n",
    "                gt_label = nib.load(gt_file_path).get_fdata()\n",
    "                gt_label = np.moveaxis(gt_label, [0, 1, 2], [1, 0, 2])  # 축을 교환합니다.\n",
    "                pred_label = nib.load(pred_file_path).get_fdata()\n",
    "                pred_label = np.moveaxis(pred_label, [0, 1, 2], [1, 0, 2])  # 축을 교환합니다.\n",
    "                pred_label2 = nib.load(pred_file_path2).get_fdata()\n",
    "                pred_label2 = np.moveaxis(pred_label2, [0, 1, 2], [1, 0, 2])  # 축을 교환합니다.\n",
    "                ct_img = nib.load(img_file_path).get_fdata()\n",
    "                ct_img = np.moveaxis(ct_img, [0, 1, 2], [1, 0, 2])  # 축을 교환합니다.\n",
    "#                 print(\"gt_label.shape;\",gt_label.shape)\n",
    "#                 print(\"pred_label.shape;\",pred_label.shape)\n",
    "#                 print(\"ct_img.shape;\",ct_img.shape)\n",
    "                # _gt 파일의 정보를 읽어오고 volume 계산\n",
    "                mask_voxel_count_gt, pixel_spacing_x_gt, pixel_spacing_y_gt, slice_gap_gt = read_nifti_spacing_and_mask_count(gt_file_path)\n",
    "                volume_gt = calculate_volume(mask_voxel_count_gt, pixel_spacing_x_gt, pixel_spacing_y_gt, slice_gap_gt)\n",
    "                \n",
    "                # _pred 파일의 정보를 읽어오고 volume 계산\n",
    "                mask_voxel_count_pred, pixel_spacing_x_pred, pixel_spacing_y_pred, slice_gap_pred = read_nifti_spacing_and_mask_count(pred_file_path)\n",
    "                volume_pred = calculate_volume(mask_voxel_count_pred, pixel_spacing_x_pred, pixel_spacing_y_pred, slice_gap_pred)\n",
    "                \n",
    "                # _pred 파일의 정보를 읽어오고 volume 계산\n",
    "                mask_voxel_count_pred2, pixel_spacing_x_pred2, pixel_spacing_y_pred2, slice_gap_pred2 = read_nifti_spacing_and_mask_count(pred_file_path2)\n",
    "                volume_pred2 = calculate_volume(mask_voxel_count_pred2, pixel_spacing_x_pred2, pixel_spacing_y_pred2, slice_gap_pred2)\n",
    "                \n",
    "                ve = np.abs(volume_gt-volume_pred)\n",
    "                ve2 = np.abs(volume_gt-volume_pred2)\n",
    "                print(\"volume_gt-volume_pred\", ve)\n",
    "                print(\"volume_gt-volume_pred2\", ve2)\n",
    "                \n",
    "                dice = metric.binary.dc(pred_label, gt_label)\n",
    "                dice2 = metric.binary.dc(pred_label2, gt_label)\n",
    "                print(\"dice\", dice)\n",
    "                print(\"dice2\",dice2)\n",
    "                if dice>dice2 and ve>ve2:\n",
    "                    print(\"-------------need to check-------------\")\n",
    "                \n",
    "                @interact(z=(0,ct_img.shape[2]-1))\n",
    "                def visualize_data(z):\n",
    "#                     ct_img = ct_img.get_fdata()\n",
    "                    fig, axes = plt.subplots(2, 2, figsize=(10, 10))  # 5개의 subplot을 생성합니다.\n",
    "                    # 첫 번째 subplot에는 원본 이미지를 표시합니다.\n",
    "                    axes[0,0].imshow(ct_img[:, :, z], cmap='gray')\n",
    "                    axes[0,0].set_title('CT Image slices')\n",
    "                    axes[0,0].axis('off')\n",
    "                    # 두 번째 subplot에는 GT label z번째 슬라이스를 표시합니다.\n",
    "                    axes[1,0].imshow(ct_img[:, :, z], cmap='gray')\n",
    "                    axes[1,0].imshow(np.where(gt_label[:, :, z] == 1, gt_label[:, :, z], np.nan), cmap='cool', alpha=0.3)\n",
    "                    axes[1,0].set_title('GT mask slices')\n",
    "                    axes[1,0].axis('off')\n",
    "                    # 세 번째 subplot에는 Pred label의 z번째 슬라이스를 표시합니다.\n",
    "                    axes[1,1].imshow(ct_img[:, :, z], cmap='gray')\n",
    "                    axes[1,1].imshow(np.where(pred_label[:, :, z] == 1, pred_label[:, :, z], np.nan), cmap='autumn', alpha=0.3)\n",
    "                    axes[1,1].set_title('Pred mask slices')\n",
    "                    axes[1,1].axis('off')\n",
    "                    ## 볼륨값이랑 dice 계산해서 output하게 하자..\n",
    "                    \n",
    "                    # 세 번째 subplot에는 Pred label의 z번째 슬라이스를 표시합니다.\n",
    "#                     blended_mask = np.zeros_like(gt_label[:, :, z])  # blended_mask를 모두 0으로 초기화합니다.\n",
    "#                     gt_mask = np.where(gt_label[:, :, z] == 1, gt_label[:, :, z], 0)\n",
    "#                     pred_mask = np.where(pred_label[:, :, z] == 1, pred_label[:, :, z], 0)\n",
    "#                     blended_mask = np.where(gt_mask + pred_mask > 0, 0.7 * gt_mask + 0.3 * pred_mask, np.nan)\n",
    "                    axes[0,1].imshow(np.where(gt_label[:, :, z] == 1, gt_label[:, :, z], np.nan), cmap='cool', alpha=0.5)\n",
    "                    \n",
    "                    axes[0,1].imshow(np.where(pred_label2[:, :, z] == 1, pred_label2[:, :, z], np.nan), cmap='winter', alpha=0.5)\n",
    "                    axes[0,1].imshow(np.where(pred_label[:, :, z] == 1, pred_label[:, :, z], np.nan), cmap='autumn', alpha=0.5)\n",
    "                    axes[0,1].set_title('GT & Pred mask slices')\n",
    "                    axes[0,1].axis('off')\n",
    "                    plt.show()\n",
    "#                 visualize_data()\n",
    "#                 break\n",
    "                # _gt 파일의 정보를 읽어오고 volume 계산\n",
    "#                 mask_voxel_count_gt, pixel_spacing_x_gt, pixel_spacing_y_gt, slice_gap_gt = read_nifti_spacing_and_mask_count(gt_file_path)\n",
    "#                 volume_gt = calculate_volume(mask_voxel_count_gt, pixel_spacing_x_gt, pixel_spacing_y_gt, slice_gap_gt)\n",
    "                \n",
    "#                 # _pred 파일의 정보를 읽어오고 volume 계산\n",
    "#                 mask_voxel_count_pred, pixel_spacing_x_pred, pixel_spacing_y_pred, slice_gap_pred = read_nifti_spacing_and_mask_count(pred_file_path)\n",
    "#                 volume_pred = calculate_volume(mask_voxel_count_pred, pixel_spacing_x_pred, pixel_spacing_y_pred, slice_gap_pred)\n",
    "                \n",
    "#                 # 검색할 문자열 설정\n",
    "#                 a_value = filename.split(\"_\")[1]\n",
    "    \n",
    "#                 # /data/hanyang_Prostate/50_example/original/1_50_trim_20230130/Total volume/ 디렉토리 내의 파일 검색\n",
    "#                 for realgt_filename in os.listdir(directory_path_realgt):\n",
    "#                     # 파일 이름에 검색할 문자열이 포함되어 있는지 확인\n",
    "#                     if a_value in realgt_filename:\n",
    "#                         mask_voxel_count_realgt, pixel_spacing_x_realgt, pixel_spacing_y_realgt, slice_gap_realgt = read_nifti_spacing_and_mask_count(os.path.join(directory_path_realgt, realgt_filename))\n",
    "#                         volume_realgt = calculate_volume(mask_voxel_count_realgt, pixel_spacing_x_realgt, pixel_spacing_y_realgt, slice_gap_realgt)\n",
    "                        \n",
    "#                         # 값 저장\n",
    "#                         if a_value in TRUS:\n",
    "#                             cnt += 1\n",
    "#                             a_lists[fold_idx - 1].append(volume_gt)\n",
    "#                             b_lists[fold_idx - 1].append(volume_pred)\n",
    "#                             c_lists[fold_idx - 1].append(volume_realgt)\n",
    "#                             d_lists[fold_idx - 1].append(TRUS[a_value])\n",
    "#                             # 출력\n",
    "#                             print(f\"No.: {a_value}\")\n",
    "#                             print(f\"\\t Volume (TRUS): {TRUS[a_value]}\")\n",
    "#                             print(f\"\\t Pixel Spacing X (realgt): {np.round(float(pixel_spacing_x_realgt),3)}\")\n",
    "#                             print(f\"\\t Volume (realgt): {np.round(volume_realgt,1)}\")\n",
    "#                             print(f\"\\t Pixel Spacing X (gt): {np.round(float(pixel_spacing_x_gt),3)}\")\n",
    "#                             print(f\"\\t Volume (gt): {np.round(volume_gt,1)}\")\n",
    "#                             print(f\"\\t Pixel Spacing X (pred): {np.round(float(pixel_spacing_x_pred),3)}\")\n",
    "#                             print(f\"\\t Volume (pred): {np.round(volume_pred,1)}\")\n",
    "#                             print(\"-----------------------------------------\")\n",
    "print(cnt)"
   ]
  },
  {
   "cell_type": "code",
   "execution_count": null,
   "metadata": {
    "scrolled": false
   },
   "outputs": [],
   "source": []
  },
  {
   "cell_type": "code",
   "execution_count": null,
   "metadata": {},
   "outputs": [],
   "source": []
  }
 ],
 "metadata": {
  "kernelspec": {
   "display_name": "prostate",
   "language": "python",
   "name": "prostate"
  },
  "language_info": {
   "codemirror_mode": {
    "name": "ipython",
    "version": 3
   },
   "file_extension": ".py",
   "mimetype": "text/x-python",
   "name": "python",
   "nbconvert_exporter": "python",
   "pygments_lexer": "ipython3",
   "version": "3.8.17"
  }
 },
 "nbformat": 4,
 "nbformat_minor": 2
}
