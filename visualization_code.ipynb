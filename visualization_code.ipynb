{
 "cells": [
  {
   "cell_type": "code",
   "execution_count": 1,
   "metadata": {
    "scrolled": false
   },
   "outputs": [
    {
     "name": "stdout",
     "output_type": "stream",
     "text": [
      "==============================\n",
      "Directory:  /data/hanyang_Prostate/Prostate/prostate_1c_test_result/test_morph_close5_2task/vnet_2task_30000_fold1/test/\n",
      "Patient id: 0_00800131\n",
      "volume_gt-volume_pred 0.536576023986818\n",
      "volume_gt-volume_pred2 0.6640640296859708\n",
      "dice 0.8729874176956456\n",
      "dice2 0.866881916545486\n"
     ]
    },
    {
     "data": {
      "application/vnd.jupyter.widget-view+json": {
       "model_id": "57a3fddba41b4bdf97d6c5f511193aee",
       "version_major": 2,
       "version_minor": 0
      },
      "text/plain": [
       "interactive(children=(IntSlider(value=63, description='z', max=127), Output()), _dom_classes=('widget-interact…"
      ]
     },
     "metadata": {},
     "output_type": "display_data"
    },
    {
     "name": "stdout",
     "output_type": "stream",
     "text": [
      "Patient id: 1_00818049\n",
      "volume_gt-volume_pred 0.27443201226806835\n",
      "volume_gt-volume_pred2 1.3568000606536899\n",
      "dice 0.8327199439186821\n",
      "dice2 0.8439374303022996\n"
     ]
    },
    {
     "data": {
      "application/vnd.jupyter.widget-view+json": {
       "model_id": "ed7ee7999ada449fbd7a6ba9f06b52e9",
       "version_major": 2,
       "version_minor": 0
      },
      "text/plain": [
       "interactive(children=(IntSlider(value=63, description='z', max=127), Output()), _dom_classes=('widget-interact…"
      ]
     },
     "metadata": {},
     "output_type": "display_data"
    },
    {
     "name": "stdout",
     "output_type": "stream",
     "text": [
      "Patient id: 2_00851016\n",
      "volume_gt-volume_pred 1.3030400582504242\n",
      "volume_gt-volume_pred2 0.3200000143051156\n",
      "dice 0.9222183751196562\n",
      "dice2 0.9281650214117695\n"
     ]
    },
    {
     "data": {
      "application/vnd.jupyter.widget-view+json": {
       "model_id": "f4abcba570374a3c8552d9f621b7e817",
       "version_major": 2,
       "version_minor": 0
      },
      "text/plain": [
       "interactive(children=(IntSlider(value=63, description='z', max=127), Output()), _dom_classes=('widget-interact…"
      ]
     },
     "metadata": {},
     "output_type": "display_data"
    },
    {
     "name": "stdout",
     "output_type": "stream",
     "text": [
      "Patient id: 3_01054688\n",
      "volume_gt-volume_pred 3.505152156692507\n",
      "volume_gt-volume_pred2 6.666752298027042\n",
      "dice 0.7599899542359638\n",
      "dice2 0.7549166955695146\n"
     ]
    },
    {
     "data": {
      "application/vnd.jupyter.widget-view+json": {
       "model_id": "48e092eb8c59402991490b40192cda52",
       "version_major": 2,
       "version_minor": 0
      },
      "text/plain": [
       "interactive(children=(IntSlider(value=63, description='z', max=127), Output()), _dom_classes=('widget-interact…"
      ]
     },
     "metadata": {},
     "output_type": "display_data"
    },
    {
     "name": "stdout",
     "output_type": "stream",
     "text": [
      "Patient id: 4_01094573\n",
      "volume_gt-volume_pred 0.22681601013946562\n",
      "volume_gt-volume_pred2 3.0940161383132967\n",
      "dice 0.9352318751947197\n",
      "dice2 0.9028104440566641\n"
     ]
    },
    {
     "data": {
      "application/vnd.jupyter.widget-view+json": {
       "model_id": "a2c65689afba4115894dda36bfe669d4",
       "version_major": 2,
       "version_minor": 0
      },
      "text/plain": [
       "interactive(children=(IntSlider(value=63, description='z', max=127), Output()), _dom_classes=('widget-interact…"
      ]
     },
     "metadata": {},
     "output_type": "display_data"
    },
    {
     "name": "stdout",
     "output_type": "stream",
     "text": [
      "Patient id: 5_01106379\n",
      "volume_gt-volume_pred 1.1161600498962407\n",
      "volume_gt-volume_pred2 0.8734720390472397\n",
      "dice 0.9361963393790551\n",
      "dice2 0.9413553719008264\n"
     ]
    },
    {
     "data": {
      "application/vnd.jupyter.widget-view+json": {
       "model_id": "993c28d480ee4acd918c7b7b2efbcedd",
       "version_major": 2,
       "version_minor": 0
      },
      "text/plain": [
       "interactive(children=(IntSlider(value=63, description='z', max=127), Output()), _dom_classes=('widget-interact…"
      ]
     },
     "metadata": {},
     "output_type": "display_data"
    },
    {
     "name": "stdout",
     "output_type": "stream",
     "text": [
      "Patient id: 6_01115241\n",
      "volume_gt-volume_pred 0.6359040284271344\n",
      "volume_gt-volume_pred2 2.057216091964719\n",
      "dice 0.8886950302347255\n",
      "dice2 0.8913158005647575\n"
     ]
    },
    {
     "data": {
      "application/vnd.jupyter.widget-view+json": {
       "model_id": "168d3e7c5b604ee194b8dc3f24ae2db5",
       "version_major": 2,
       "version_minor": 0
      },
      "text/plain": [
       "interactive(children=(IntSlider(value=63, description='z', max=127), Output()), _dom_classes=('widget-interact…"
      ]
     },
     "metadata": {},
     "output_type": "display_data"
    },
    {
     "name": "stdout",
     "output_type": "stream",
     "text": [
      "Patient id: 7_01228200\n",
      "volume_gt-volume_pred 3.167232141586304\n",
      "volume_gt-volume_pred2 3.5138561570816087\n",
      "dice 0.8673756594138169\n",
      "dice2 0.8620195570749856\n"
     ]
    },
    {
     "data": {
      "application/vnd.jupyter.widget-view+json": {
       "model_id": "3d7e7293a36f46b0bfa5689b85ff530a",
       "version_major": 2,
       "version_minor": 0
      },
      "text/plain": [
       "interactive(children=(IntSlider(value=63, description='z', max=127), Output()), _dom_classes=('widget-interact…"
      ]
     },
     "metadata": {},
     "output_type": "display_data"
    },
    {
     "name": "stdout",
     "output_type": "stream",
     "text": [
      "Patient id: 8_01264293\n",
      "volume_gt-volume_pred 10.22822445723725\n",
      "volume_gt-volume_pred2 6.61606429576112\n",
      "dice 0.8337376456784169\n",
      "dice2 0.8841848548371628\n"
     ]
    },
    {
     "data": {
      "application/vnd.jupyter.widget-view+json": {
       "model_id": "5ccfa497d4914e409adb856ef812dfbe",
       "version_major": 2,
       "version_minor": 0
      },
      "text/plain": [
       "interactive(children=(IntSlider(value=63, description='z', max=127), Output()), _dom_classes=('widget-interact…"
      ]
     },
     "metadata": {},
     "output_type": "display_data"
    },
    {
     "name": "stdout",
     "output_type": "stream",
     "text": [
      "Patient id: 9_01663839\n",
      "volume_gt-volume_pred 1.3844480618896498\n",
      "volume_gt-volume_pred2 0.0460800020599379\n",
      "dice 0.9195145651140193\n",
      "dice2 0.9132981721555681\n",
      "-------------need to check-------------\n"
     ]
    },
    {
     "data": {
      "application/vnd.jupyter.widget-view+json": {
       "model_id": "fe96f472e43b4fcca6b68897e5d83288",
       "version_major": 2,
       "version_minor": 0
      },
      "text/plain": [
       "interactive(children=(IntSlider(value=63, description='z', max=127), Output()), _dom_classes=('widget-interact…"
      ]
     },
     "metadata": {},
     "output_type": "display_data"
    },
    {
     "name": "stdout",
     "output_type": "stream",
     "text": [
      "==============================\n",
      "Directory:  /data/hanyang_Prostate/Prostate/prostate_1c_test_result/test_morph_close5_2task/vnet_2task_30000_fold2/test/\n",
      "Patient id: 0_01776461\n",
      "volume_gt-volume_pred 2.453504109680182\n",
      "volume_gt-volume_pred2 0.79769603565979\n",
      "dice 0.9124127362506386\n",
      "dice2 0.9058113907899316\n",
      "-------------need to check-------------\n"
     ]
    },
    {
     "data": {
      "application/vnd.jupyter.widget-view+json": {
       "model_id": "1fc91ef7e9ba4760bafe68d9c7da7866",
       "version_major": 2,
       "version_minor": 0
      },
      "text/plain": [
       "interactive(children=(IntSlider(value=63, description='z', max=127), Output()), _dom_classes=('widget-interact…"
      ]
     },
     "metadata": {},
     "output_type": "display_data"
    },
    {
     "name": "stdout",
     "output_type": "stream",
     "text": [
      "Patient id: 1_01804929\n",
      "volume_gt-volume_pred 1.3214720590743987\n",
      "volume_gt-volume_pred2 1.0874880486144995\n",
      "dice 0.8910252223775128\n",
      "dice2 0.90368190060708\n"
     ]
    },
    {
     "data": {
      "application/vnd.jupyter.widget-view+json": {
       "model_id": "37198f553ddf491dad2cef1947fb2ad6",
       "version_major": 2,
       "version_minor": 0
      },
      "text/plain": [
       "interactive(children=(IntSlider(value=63, description='z', max=127), Output()), _dom_classes=('widget-interact…"
      ]
     },
     "metadata": {},
     "output_type": "display_data"
    },
    {
     "name": "stdout",
     "output_type": "stream",
     "text": [
      "Patient id: 2_01904278\n",
      "volume_gt-volume_pred 5.6033282504882855\n",
      "volume_gt-volume_pred2 6.787584303428652\n",
      "dice 0.8494211619936854\n",
      "dice2 0.8257029583785835\n"
     ]
    },
    {
     "data": {
      "application/vnd.jupyter.widget-view+json": {
       "model_id": "a96e63be775345dd854bfee1d41292a0",
       "version_major": 2,
       "version_minor": 0
      },
      "text/plain": [
       "interactive(children=(IntSlider(value=63, description='z', max=127), Output()), _dom_classes=('widget-interact…"
      ]
     },
     "metadata": {},
     "output_type": "display_data"
    },
    {
     "name": "stdout",
     "output_type": "stream",
     "text": [
      "Patient id: 3_01972333\n",
      "volume_gt-volume_pred 0.4597760205535941\n",
      "volume_gt-volume_pred2 2.2374401000213595\n",
      "dice 0.9320340472974422\n",
      "dice2 0.9000710299340436\n"
     ]
    },
    {
     "data": {
      "application/vnd.jupyter.widget-view+json": {
       "model_id": "57d8a9a57aa84876a82a7115e5b50205",
       "version_major": 2,
       "version_minor": 0
      },
      "text/plain": [
       "interactive(children=(IntSlider(value=63, description='z', max=127), Output()), _dom_classes=('widget-interact…"
      ]
     },
     "metadata": {},
     "output_type": "display_data"
    },
    {
     "name": "stdout",
     "output_type": "stream",
     "text": [
      "Patient id: 4_01986175\n",
      "volume_gt-volume_pred 3.575296159828188\n",
      "volume_gt-volume_pred2 3.358720150146482\n",
      "dice 0.8600505011860127\n",
      "dice2 0.8507141760098296\n",
      "-------------need to check-------------\n"
     ]
    },
    {
     "data": {
      "application/vnd.jupyter.widget-view+json": {
       "model_id": "6a4740b79e294c1b8777a74af28694ee",
       "version_major": 2,
       "version_minor": 0
      },
      "text/plain": [
       "interactive(children=(IntSlider(value=63, description='z', max=127), Output()), _dom_classes=('widget-interact…"
      ]
     },
     "metadata": {},
     "output_type": "display_data"
    },
    {
     "name": "stdout",
     "output_type": "stream",
     "text": [
      "Patient id: 5_02009786\n",
      "volume_gt-volume_pred 5.778944258338932\n",
      "volume_gt-volume_pred2 3.6490241631240856\n",
      "dice 0.8758396452295107\n",
      "dice2 0.9122381926204484\n"
     ]
    },
    {
     "data": {
      "application/vnd.jupyter.widget-view+json": {
       "model_id": "e80eda53852d45fabb1a13d5b9eed16d",
       "version_major": 2,
       "version_minor": 0
      },
      "text/plain": [
       "interactive(children=(IntSlider(value=63, description='z', max=127), Output()), _dom_classes=('widget-interact…"
      ]
     },
     "metadata": {},
     "output_type": "display_data"
    },
    {
     "name": "stdout",
     "output_type": "stream",
     "text": [
      "Patient id: 6_02063805\n",
      "volume_gt-volume_pred 3.90553617459107\n",
      "volume_gt-volume_pred2 6.220288278068544\n",
      "dice 0.8712495028796159\n",
      "dice2 0.8634455428608084\n"
     ]
    },
    {
     "data": {
      "application/vnd.jupyter.widget-view+json": {
       "model_id": "201d334e15ae4f06a4623a66a890cf1b",
       "version_major": 2,
       "version_minor": 0
      },
      "text/plain": [
       "interactive(children=(IntSlider(value=63, description='z', max=127), Output()), _dom_classes=('widget-interact…"
      ]
     },
     "metadata": {},
     "output_type": "display_data"
    },
    {
     "name": "stdout",
     "output_type": "stream",
     "text": [
      "Patient id: 7_02141859\n",
      "volume_gt-volume_pred 1.5313920684585618\n",
      "volume_gt-volume_pred2 0.459776020553587\n",
      "dice 0.8711011614152913\n",
      "dice2 0.8699519979029801\n",
      "-------------need to check-------------\n"
     ]
    },
    {
     "data": {
      "application/vnd.jupyter.widget-view+json": {
       "model_id": "e6e54d25749e47058f0d495e794365b4",
       "version_major": 2,
       "version_minor": 0
      },
      "text/plain": [
       "interactive(children=(IntSlider(value=63, description='z', max=127), Output()), _dom_classes=('widget-interact…"
      ]
     },
     "metadata": {},
     "output_type": "display_data"
    },
    {
     "name": "stdout",
     "output_type": "stream",
     "text": [
      "Patient id: 8_02150142\n",
      "volume_gt-volume_pred 3.889152173858644\n",
      "volume_gt-volume_pred2 1.9609600876617463\n",
      "dice 0.8744622604614783\n",
      "dice2 0.9152964049164662\n"
     ]
    },
    {
     "data": {
      "application/vnd.jupyter.widget-view+json": {
       "model_id": "104ff538d24a4d4499bebaf5b9ccd56d",
       "version_major": 2,
       "version_minor": 0
      },
      "text/plain": [
       "interactive(children=(IntSlider(value=63, description='z', max=127), Output()), _dom_classes=('widget-interact…"
      ]
     },
     "metadata": {},
     "output_type": "display_data"
    },
    {
     "name": "stdout",
     "output_type": "stream",
     "text": [
      "Patient id: 9_02153845\n",
      "volume_gt-volume_pred 1.651712073837281\n",
      "volume_gt-volume_pred2 0.3159040141220082\n",
      "dice 0.8740264228182567\n",
      "dice2 0.8986345010083883\n"
     ]
    },
    {
     "data": {
      "application/vnd.jupyter.widget-view+json": {
       "model_id": "1870b08d500c41938ecb3220ca7a9975",
       "version_major": 2,
       "version_minor": 0
      },
      "text/plain": [
       "interactive(children=(IntSlider(value=63, description='z', max=127), Output()), _dom_classes=('widget-interact…"
      ]
     },
     "metadata": {},
     "output_type": "display_data"
    },
    {
     "name": "stdout",
     "output_type": "stream",
     "text": [
      "==============================\n",
      "Directory:  /data/hanyang_Prostate/Prostate/prostate_1c_test_result/test_morph_close5_2task/vnet_2task_30000_fold3/test/\n",
      "Patient id: 0_02161060\n",
      "volume_gt-volume_pred 0.9579520428237913\n",
      "volume_gt-volume_pred2 1.4382080642929083\n",
      "dice 0.8331799878120183\n",
      "dice2 0.8261041768040829\n"
     ]
    },
    {
     "data": {
      "application/vnd.jupyter.widget-view+json": {
       "model_id": "a3f6018bab9442bca9287f01766f3c97",
       "version_major": 2,
       "version_minor": 0
      },
      "text/plain": [
       "interactive(children=(IntSlider(value=63, description='z', max=127), Output()), _dom_classes=('widget-interact…"
      ]
     },
     "metadata": {},
     "output_type": "display_data"
    },
    {
     "name": "stdout",
     "output_type": "stream",
     "text": [
      "Patient id: 1_02179375\n",
      "volume_gt-volume_pred 3.392000151634221\n",
      "volume_gt-volume_pred2 3.164672141471865\n",
      "dice 0.8949975448601432\n",
      "dice2 0.8837951719344015\n",
      "-------------need to check-------------\n"
     ]
    },
    {
     "data": {
      "application/vnd.jupyter.widget-view+json": {
       "model_id": "6759c39c07f34259afba8c0402a0858c",
       "version_major": 2,
       "version_minor": 0
      },
      "text/plain": [
       "interactive(children=(IntSlider(value=63, description='z', max=127), Output()), _dom_classes=('widget-interact…"
      ]
     },
     "metadata": {},
     "output_type": "display_data"
    },
    {
     "name": "stdout",
     "output_type": "stream",
     "text": [
      "Patient id: 2_02179650\n",
      "volume_gt-volume_pred 9.273344414550788\n",
      "volume_gt-volume_pred2 13.110784586097726\n",
      "dice 0.8035901302836077\n",
      "dice2 0.7507744297381019\n"
     ]
    },
    {
     "data": {
      "application/vnd.jupyter.widget-view+json": {
       "model_id": "672dc324dc524e10b7b3fd8c7352dfde",
       "version_major": 2,
       "version_minor": 0
      },
      "text/plain": [
       "interactive(children=(IntSlider(value=63, description='z', max=127), Output()), _dom_classes=('widget-interact…"
      ]
     },
     "metadata": {},
     "output_type": "display_data"
    },
    {
     "name": "stdout",
     "output_type": "stream",
     "text": [
      "Patient id: 3_02286469\n",
      "volume_gt-volume_pred 3.3177601483154326\n",
      "volume_gt-volume_pred2 4.2680321907959\n",
      "dice 0.7950530035335689\n",
      "dice2 0.8064252270547752\n"
     ]
    },
    {
     "data": {
      "application/vnd.jupyter.widget-view+json": {
       "model_id": "8208f892e7cf45da95d06025aa2ea0ab",
       "version_major": 2,
       "version_minor": 0
      },
      "text/plain": [
       "interactive(children=(IntSlider(value=63, description='z', max=127), Output()), _dom_classes=('widget-interact…"
      ]
     },
     "metadata": {},
     "output_type": "display_data"
    },
    {
     "name": "stdout",
     "output_type": "stream",
     "text": [
      "Patient id: 4_02289873\n",
      "volume_gt-volume_pred 5.863424262115483\n",
      "volume_gt-volume_pred2 0.4111360183792101\n",
      "dice 0.8437038858829317\n",
      "dice2 0.8138109323330928\n",
      "-------------need to check-------------\n"
     ]
    },
    {
     "data": {
      "application/vnd.jupyter.widget-view+json": {
       "model_id": "6f1a4ee047bc40fc8545050090cf769f",
       "version_major": 2,
       "version_minor": 0
      },
      "text/plain": [
       "interactive(children=(IntSlider(value=63, description='z', max=127), Output()), _dom_classes=('widget-interact…"
      ]
     },
     "metadata": {},
     "output_type": "display_data"
    },
    {
     "name": "stdout",
     "output_type": "stream",
     "text": [
      "Patient id: 5_02348071\n",
      "volume_gt-volume_pred 5.319680237808232\n",
      "volume_gt-volume_pred2 3.1595521412429832\n",
      "dice 0.842941793056239\n",
      "dice2 0.8783478145180272\n"
     ]
    },
    {
     "data": {
      "application/vnd.jupyter.widget-view+json": {
       "model_id": "f7841261b40a4be9b90cf850e6692a51",
       "version_major": 2,
       "version_minor": 0
      },
      "text/plain": [
       "interactive(children=(IntSlider(value=63, description='z', max=127), Output()), _dom_classes=('widget-interact…"
      ]
     },
     "metadata": {},
     "output_type": "display_data"
    },
    {
     "name": "stdout",
     "output_type": "stream",
     "text": [
      "Patient id: 6_02394910\n",
      "volume_gt-volume_pred 15.072768673805243\n",
      "volume_gt-volume_pred2 6.321152282577515\n",
      "dice 0.8198086698785197\n",
      "dice2 0.8631533839126582\n"
     ]
    },
    {
     "data": {
      "application/vnd.jupyter.widget-view+json": {
       "model_id": "25c9c41e90274144ae2f5715333659e8",
       "version_major": 2,
       "version_minor": 0
      },
      "text/plain": [
       "interactive(children=(IntSlider(value=63, description='z', max=127), Output()), _dom_classes=('widget-interact…"
      ]
     },
     "metadata": {},
     "output_type": "display_data"
    },
    {
     "name": "stdout",
     "output_type": "stream",
     "text": [
      "Patient id: 7_02572186\n",
      "volume_gt-volume_pred 2.9235201306915286\n",
      "volume_gt-volume_pred2 5.114368228630077\n",
      "dice 0.8756135963693619\n",
      "dice2 0.8784172500616394\n"
     ]
    },
    {
     "data": {
      "application/vnd.jupyter.widget-view+json": {
       "model_id": "fa1833ac22e743dca79b0524395056a5",
       "version_major": 2,
       "version_minor": 0
      },
      "text/plain": [
       "interactive(children=(IntSlider(value=63, description='z', max=127), Output()), _dom_classes=('widget-interact…"
      ]
     },
     "metadata": {},
     "output_type": "display_data"
    },
    {
     "name": "stdout",
     "output_type": "stream",
     "text": [
      "Patient id: 8_02573669\n",
      "volume_gt-volume_pred 5.253632234855651\n",
      "volume_gt-volume_pred2 3.433984153511048\n",
      "dice 0.8824804893482388\n",
      "dice2 0.914522563258218\n"
     ]
    },
    {
     "data": {
      "application/vnd.jupyter.widget-view+json": {
       "model_id": "a31de7f5ebef46bf9079f5f132a5e58e",
       "version_major": 2,
       "version_minor": 0
      },
      "text/plain": [
       "interactive(children=(IntSlider(value=63, description='z', max=127), Output()), _dom_classes=('widget-interact…"
      ]
     },
     "metadata": {},
     "output_type": "display_data"
    },
    {
     "name": "stdout",
     "output_type": "stream",
     "text": [
      "Patient id: 9_02603745\n",
      "volume_gt-volume_pred 2.9685761327056888\n",
      "volume_gt-volume_pred2 3.7012481654586793\n",
      "dice 0.7085098870056498\n",
      "dice2 0.7643069550520933\n"
     ]
    },
    {
     "data": {
      "application/vnd.jupyter.widget-view+json": {
       "model_id": "e787b1ddf7c0430ebd49210f056dbbe0",
       "version_major": 2,
       "version_minor": 0
      },
      "text/plain": [
       "interactive(children=(IntSlider(value=63, description='z', max=127), Output()), _dom_classes=('widget-interact…"
      ]
     },
     "metadata": {},
     "output_type": "display_data"
    },
    {
     "name": "stdout",
     "output_type": "stream",
     "text": [
      "==============================\n",
      "Directory:  /data/hanyang_Prostate/Prostate/prostate_1c_test_result/test_morph_close5_2task/vnet_2task_30000_fold4/test/\n",
      "Patient id: 0_02610498\n",
      "volume_gt-volume_pred 5.858304261886598\n",
      "volume_gt-volume_pred2 5.842432261177066\n",
      "dice 0.8531652989449003\n",
      "dice2 0.8083346421653317\n",
      "-------------need to check-------------\n"
     ]
    },
    {
     "data": {
      "application/vnd.jupyter.widget-view+json": {
       "model_id": "3f6c2beeffdf48208fd48a7ebf57b43d",
       "version_major": 2,
       "version_minor": 0
      },
      "text/plain": [
       "interactive(children=(IntSlider(value=63, description='z', max=127), Output()), _dom_classes=('widget-interact…"
      ]
     },
     "metadata": {},
     "output_type": "display_data"
    },
    {
     "name": "stdout",
     "output_type": "stream",
     "text": [
      "Patient id: 1_02744296\n",
      "volume_gt-volume_pred 0.6917120309219378\n",
      "volume_gt-volume_pred2 3.243520144996644\n",
      "dice 0.9310019854885492\n",
      "dice2 0.9201676627842873\n"
     ]
    },
    {
     "data": {
      "application/vnd.jupyter.widget-view+json": {
       "model_id": "225394b6b3b847f4a44b7649f8eab032",
       "version_major": 2,
       "version_minor": 0
      },
      "text/plain": [
       "interactive(children=(IntSlider(value=63, description='z', max=127), Output()), _dom_classes=('widget-interact…"
      ]
     },
     "metadata": {},
     "output_type": "display_data"
    },
    {
     "name": "stdout",
     "output_type": "stream",
     "text": [
      "Patient id: 2_02786444\n",
      "volume_gt-volume_pred 1.2395520554122896\n",
      "volume_gt-volume_pred2 1.5109120675430283\n",
      "dice 0.8176718635150296\n",
      "dice2 0.8472661603289061\n"
     ]
    },
    {
     "data": {
      "application/vnd.jupyter.widget-view+json": {
       "model_id": "1976c587ea4745208cd4a8869dfa43ac",
       "version_major": 2,
       "version_minor": 0
      },
      "text/plain": [
       "interactive(children=(IntSlider(value=63, description='z', max=127), Output()), _dom_classes=('widget-interact…"
      ]
     },
     "metadata": {},
     "output_type": "display_data"
    },
    {
     "name": "stdout",
     "output_type": "stream",
     "text": [
      "Patient id: 3_02793452\n",
      "volume_gt-volume_pred 5.9827202674484266\n",
      "volume_gt-volume_pred2 3.420160152893068\n",
      "dice 0.8332857822158821\n",
      "dice2 0.8871899249459356\n"
     ]
    },
    {
     "data": {
      "application/vnd.jupyter.widget-view+json": {
       "model_id": "5304f2238830499c84f55ec5547c2a52",
       "version_major": 2,
       "version_minor": 0
      },
      "text/plain": [
       "interactive(children=(IntSlider(value=63, description='z', max=127), Output()), _dom_classes=('widget-interact…"
      ]
     },
     "metadata": {},
     "output_type": "display_data"
    },
    {
     "name": "stdout",
     "output_type": "stream",
     "text": [
      "Patient id: 4_02820034\n",
      "volume_gt-volume_pred 0.4848640216751079\n",
      "volume_gt-volume_pred2 0.14950400668335107\n",
      "dice 0.9266550417894294\n",
      "dice2 0.9184539185250137\n",
      "-------------need to check-------------\n"
     ]
    },
    {
     "data": {
      "application/vnd.jupyter.widget-view+json": {
       "model_id": "11c6d351638b449f8cb362c62784c002",
       "version_major": 2,
       "version_minor": 0
      },
      "text/plain": [
       "interactive(children=(IntSlider(value=63, description='z', max=127), Output()), _dom_classes=('widget-interact…"
      ]
     },
     "metadata": {},
     "output_type": "display_data"
    },
    {
     "name": "stdout",
     "output_type": "stream",
     "text": [
      "Patient id: 5_02882776\n",
      "volume_gt-volume_pred 1.7459200780487087\n",
      "volume_gt-volume_pred2 3.382272151199345\n",
      "dice 0.9242546536851133\n",
      "dice2 0.9081078459897197\n"
     ]
    },
    {
     "data": {
      "application/vnd.jupyter.widget-view+json": {
       "model_id": "c29a9882ed414a3ba3ef06b4bc47257c",
       "version_major": 2,
       "version_minor": 0
      },
      "text/plain": [
       "interactive(children=(IntSlider(value=63, description='z', max=127), Output()), _dom_classes=('widget-interact…"
      ]
     },
     "metadata": {},
     "output_type": "display_data"
    },
    {
     "name": "stdout",
     "output_type": "stream",
     "text": [
      "Patient id: 6_02948957\n",
      "volume_gt-volume_pred 4.716544210845946\n",
      "volume_gt-volume_pred2 7.331328327735903\n",
      "dice 0.9172799884172679\n",
      "dice2 0.8869330312404688\n"
     ]
    },
    {
     "data": {
      "application/vnd.jupyter.widget-view+json": {
       "model_id": "2be8be383d194352a91b69afec1dab38",
       "version_major": 2,
       "version_minor": 0
      },
      "text/plain": [
       "interactive(children=(IntSlider(value=63, description='z', max=127), Output()), _dom_classes=('widget-interact…"
      ]
     },
     "metadata": {},
     "output_type": "display_data"
    },
    {
     "name": "stdout",
     "output_type": "stream",
     "text": [
      "Patient id: 7_02949843\n",
      "volume_gt-volume_pred 0.0916480040969816\n",
      "volume_gt-volume_pred2 0.3189760142593414\n",
      "dice 0.9216631275320515\n",
      "dice2 0.9255400364992693\n"
     ]
    },
    {
     "data": {
      "application/vnd.jupyter.widget-view+json": {
       "model_id": "76e3652e7fcd42bf9674d9d5f3959eb2",
       "version_major": 2,
       "version_minor": 0
      },
      "text/plain": [
       "interactive(children=(IntSlider(value=63, description='z', max=127), Output()), _dom_classes=('widget-interact…"
      ]
     },
     "metadata": {},
     "output_type": "display_data"
    },
    {
     "name": "stdout",
     "output_type": "stream",
     "text": [
      "Patient id: 8_02951189\n",
      "volume_gt-volume_pred 3.8487041720504784\n",
      "volume_gt-volume_pred2 0.4561920203933667\n",
      "dice 0.8821528115298015\n",
      "dice2 0.91596474409687\n"
     ]
    },
    {
     "data": {
      "application/vnd.jupyter.widget-view+json": {
       "model_id": "2bdc20c2fa5a41e9914b6c91cce476be",
       "version_major": 2,
       "version_minor": 0
      },
      "text/plain": [
       "interactive(children=(IntSlider(value=63, description='z', max=127), Output()), _dom_classes=('widget-interact…"
      ]
     },
     "metadata": {},
     "output_type": "display_data"
    },
    {
     "name": "stdout",
     "output_type": "stream",
     "text": [
      "Patient id: 9_02951192\n",
      "volume_gt-volume_pred 5.772288258041382\n",
      "volume_gt-volume_pred2 4.406784196998597\n",
      "dice 0.8569922394870111\n",
      "dice2 0.8768805804985598\n"
     ]
    },
    {
     "data": {
      "application/vnd.jupyter.widget-view+json": {
       "model_id": "7e12cf85491a4789b9656105c7986a77",
       "version_major": 2,
       "version_minor": 0
      },
      "text/plain": [
       "interactive(children=(IntSlider(value=63, description='z', max=127), Output()), _dom_classes=('widget-interact…"
      ]
     },
     "metadata": {},
     "output_type": "display_data"
    },
    {
     "name": "stdout",
     "output_type": "stream",
     "text": [
      "==============================\n",
      "Directory:  /data/hanyang_Prostate/Prostate/prostate_1c_test_result/test_morph_close5_2task/vnet_2task_30000_fold5/test/\n",
      "Patient id: 0_02953538\n",
      "volume_gt-volume_pred 1.2794880571975753\n",
      "volume_gt-volume_pred2 4.344320194206247\n",
      "dice 0.8981482145289525\n",
      "dice2 0.8529524123414806\n"
     ]
    },
    {
     "data": {
      "application/vnd.jupyter.widget-view+json": {
       "model_id": "56b4bbcfbafb44e5b40adfa84f3bedcb",
       "version_major": 2,
       "version_minor": 0
      },
      "text/plain": [
       "interactive(children=(IntSlider(value=63, description='z', max=127), Output()), _dom_classes=('widget-interact…"
      ]
     },
     "metadata": {},
     "output_type": "display_data"
    },
    {
     "name": "stdout",
     "output_type": "stream",
     "text": [
      "Patient id: 1_02953540\n",
      "volume_gt-volume_pred 3.768320168457034\n",
      "volume_gt-volume_pred2 1.4561280650939956\n",
      "dice 0.8676326815642458\n",
      "dice2 0.8471156991748755\n",
      "-------------need to check-------------\n"
     ]
    },
    {
     "data": {
      "application/vnd.jupyter.widget-view+json": {
       "model_id": "b6acb4926cc344d892226e6c236703f8",
       "version_major": 2,
       "version_minor": 0
      },
      "text/plain": [
       "interactive(children=(IntSlider(value=63, description='z', max=127), Output()), _dom_classes=('widget-interact…"
      ]
     },
     "metadata": {},
     "output_type": "display_data"
    },
    {
     "name": "stdout",
     "output_type": "stream",
     "text": [
      "Patient id: 2_02953784\n",
      "volume_gt-volume_pred 2.6787841197509827\n",
      "volume_gt-volume_pred2 4.130304184638984\n",
      "dice 0.9185619273522162\n",
      "dice2 0.9070071569536581\n"
     ]
    },
    {
     "data": {
      "application/vnd.jupyter.widget-view+json": {
       "model_id": "ce792f0117d04e768d18eb0efb1ab998",
       "version_major": 2,
       "version_minor": 0
      },
      "text/plain": [
       "interactive(children=(IntSlider(value=63, description='z', max=127), Output()), _dom_classes=('widget-interact…"
      ]
     },
     "metadata": {},
     "output_type": "display_data"
    },
    {
     "name": "stdout",
     "output_type": "stream",
     "text": [
      "Patient id: 3_02953958\n",
      "volume_gt-volume_pred 5.591040249938974\n",
      "volume_gt-volume_pred2 4.617728206428527\n",
      "dice 0.89236625443522\n",
      "dice2 0.8877292824935429\n",
      "-------------need to check-------------\n"
     ]
    },
    {
     "data": {
      "application/vnd.jupyter.widget-view+json": {
       "model_id": "3d08e1e506cf4677aab8a80413976a68",
       "version_major": 2,
       "version_minor": 0
      },
      "text/plain": [
       "interactive(children=(IntSlider(value=63, description='z', max=127), Output()), _dom_classes=('widget-interact…"
      ]
     },
     "metadata": {},
     "output_type": "display_data"
    },
    {
     "name": "stdout",
     "output_type": "stream",
     "text": [
      "Patient id: 4_02954359\n",
      "volume_gt-volume_pred 3.5671041594619766\n",
      "volume_gt-volume_pred2 2.02700809061432\n",
      "dice 0.8849770414300208\n",
      "dice2 0.8767049320187043\n",
      "-------------need to check-------------\n"
     ]
    },
    {
     "data": {
      "application/vnd.jupyter.widget-view+json": {
       "model_id": "2556c053b2644471ba43b41c31fd84ba",
       "version_major": 2,
       "version_minor": 0
      },
      "text/plain": [
       "interactive(children=(IntSlider(value=63, description='z', max=127), Output()), _dom_classes=('widget-interact…"
      ]
     },
     "metadata": {},
     "output_type": "display_data"
    },
    {
     "name": "stdout",
     "output_type": "stream",
     "text": [
      "Patient id: 5_02954360\n",
      "volume_gt-volume_pred 4.09600018310547\n",
      "volume_gt-volume_pred2 4.521472202125555\n",
      "dice 0.8702594810379242\n",
      "dice2 0.9050486184496163\n"
     ]
    },
    {
     "data": {
      "application/vnd.jupyter.widget-view+json": {
       "model_id": "352ea9e1d0dd426683d4c8ee3e111f49",
       "version_major": 2,
       "version_minor": 0
      },
      "text/plain": [
       "interactive(children=(IntSlider(value=63, description='z', max=127), Output()), _dom_classes=('widget-interact…"
      ]
     },
     "metadata": {},
     "output_type": "display_data"
    },
    {
     "name": "stdout",
     "output_type": "stream",
     "text": [
      "Patient id: 6_02954361\n",
      "volume_gt-volume_pred 6.285824280998234\n",
      "volume_gt-volume_pred2 1.059328047355656\n",
      "dice 0.8511103404063015\n",
      "dice2 0.9137657017058498\n"
     ]
    },
    {
     "data": {
      "application/vnd.jupyter.widget-view+json": {
       "model_id": "09324471699b42a692db0e095208e7ed",
       "version_major": 2,
       "version_minor": 0
      },
      "text/plain": [
       "interactive(children=(IntSlider(value=63, description='z', max=127), Output()), _dom_classes=('widget-interact…"
      ]
     },
     "metadata": {},
     "output_type": "display_data"
    },
    {
     "name": "stdout",
     "output_type": "stream",
     "text": [
      "Patient id: 7_02954978\n",
      "volume_gt-volume_pred 3.9941121785507185\n",
      "volume_gt-volume_pred2 6.018048269027709\n",
      "dice 0.8690048110924068\n",
      "dice2 0.854894234757362\n"
     ]
    },
    {
     "data": {
      "application/vnd.jupyter.widget-view+json": {
       "model_id": "ae727338eb13445887a881c7da0818bc",
       "version_major": 2,
       "version_minor": 0
      },
      "text/plain": [
       "interactive(children=(IntSlider(value=63, description='z', max=127), Output()), _dom_classes=('widget-interact…"
      ]
     },
     "metadata": {},
     "output_type": "display_data"
    },
    {
     "name": "stdout",
     "output_type": "stream",
     "text": [
      "Patient id: 8_02955289\n",
      "volume_gt-volume_pred 1.6609280742492665\n",
      "volume_gt-volume_pred2 2.297856102722168\n",
      "dice 0.7057068703200978\n",
      "dice2 0.7487157664366698\n"
     ]
    },
    {
     "data": {
      "application/vnd.jupyter.widget-view+json": {
       "model_id": "d6d0fe03762840b981fe77907339547e",
       "version_major": 2,
       "version_minor": 0
      },
      "text/plain": [
       "interactive(children=(IntSlider(value=63, description='z', max=127), Output()), _dom_classes=('widget-interact…"
      ]
     },
     "metadata": {},
     "output_type": "display_data"
    },
    {
     "name": "stdout",
     "output_type": "stream",
     "text": [
      "Patient id: 9_02955569\n",
      "volume_gt-volume_pred 1.334784059669488\n",
      "volume_gt-volume_pred2 3.062272136894226\n",
      "dice 0.9277665167788883\n",
      "dice2 0.9239087958273852\n"
     ]
    },
    {
     "data": {
      "application/vnd.jupyter.widget-view+json": {
       "model_id": "0863883aa5d04e5888b4f3af9c356b24",
       "version_major": 2,
       "version_minor": 0
      },
      "text/plain": [
       "interactive(children=(IntSlider(value=63, description='z', max=127), Output()), _dom_classes=('widget-interact…"
      ]
     },
     "metadata": {},
     "output_type": "display_data"
    },
    {
     "name": "stdout",
     "output_type": "stream",
     "text": [
      "0\n"
     ]
    }
   ],
   "source": [
    "import os\n",
    "# import monai\n",
    "import nibabel as nib\n",
    "import numpy as np\n",
    "import matplotlib.pyplot as plt\n",
    "from ipywidgets import interact\n",
    "from medpy import metric\n",
    "#%matplotlib inline\n",
    "# from monai.transforms import Compose, LoadImaged, EnsureChannelFirstd, Orientationd, Spacingd\n",
    "# from monai.data import (\n",
    "#     DataLoader,\n",
    "#     CacheDataset,\n",
    "#     load_decathlon_datalist,\n",
    "# )\n",
    "# import pandas as pd\n",
    "# import matplotlib.pyplot as plt\n",
    "# import SimpleITK as sitk\n",
    "# from monai.transforms import (\n",
    "#     EnsureChannelFirstd,\n",
    "#     Compose,\n",
    "#     LoadImaged,\n",
    "#     Orientationd,\n",
    "#     RandFlipd,\n",
    "#     Spacingd,\n",
    "#     RandRotate90d,\n",
    "#     CenterSpatialCropd,\n",
    "#     RandSpatialCropd\n",
    "# )\n",
    "# # Enable deterministic training for reproducibility\n",
    "# monai.config.print_config()\n",
    "# monai.utils.set_determinism(seed=0)\n",
    "\n",
    "def read_nifti_spacing_and_mask_count(nifti_file_path):\n",
    "    try:\n",
    "        # NIfTI 파일 열기\n",
    "        img = nib.load(nifti_file_path)\n",
    "\n",
    "        # spacing 정보 추출\n",
    "        spacing = img.header.get_zooms()\n",
    "        mask_voxel_count = np.count_nonzero(img.get_fdata()!=0)\n",
    "        return mask_voxel_count, spacing[0], spacing[1], spacing[2]\n",
    "    except Exception as e:\n",
    "        print(f\"Error reading NIfTI file: {str(e)}\")\n",
    "        return None\n",
    "\n",
    "# Define a function to calculate the volume\n",
    "def calculate_volume(mask_voxel_count, pixel_spacing_x, pixel_spacing_y, slice_gap):\n",
    "#     return np.round((mask_voxel_count * pixel_spacing_x * pixel_spacing_y * slice_gap)/1000, 2)  ## mm3 to cc\n",
    "    return (mask_voxel_count * pixel_spacing_x * pixel_spacing_y * slice_gap)/1000\n",
    "\n",
    "\n",
    "# directory_path = \"/data/hanyang_Prostate/50_example/trim/sl_data_wo_norm_morphol/centerCrop_350_350_200/label_trim/\"#\"/data/hanyang_Prostate/50_example/original/1_50_trim_20230130/Total volume/\"\n",
    "# class_name = 1\n",
    "\n",
    "# if class_name == 1:\n",
    "#     datasets = \"/data/hanyang_Prostate/50_example/trim/sl_data/centerCrop_350_350_200/dataset_fold_testjinjin.json\"\n",
    "#     print(\"total_prostate test : dataset.json\")\n",
    "# # if args.class_name == 2:\n",
    "# #     datasets = args.root_path + \"/dataset_2_fold{}.json\".format(args.fold)\n",
    "# #     print(\"transition zone train :dataset_2.json\")\n",
    "# files = load_decathlon_datalist(datasets, True, \"training\")\n",
    "\n",
    "# transforms = Compose(\n",
    "#         [\n",
    "#             LoadImaged(keys=[\"image\", \"label\"]),\n",
    "#             EnsureChannelFirstd(keys=[\"image\", \"label\"]),\n",
    "#             Orientationd(keys=[\"image\", \"label\"], axcodes=\"RAI\"),       #ALI\n",
    "#             Spacingd(\n",
    "#                 keys=[\"image\", \"label\"],\n",
    "#                 pixdim=(0.8,0.8,0.8),\n",
    "#                 mode=(\"bilinear\", \"nearest\"),\n",
    "#             ),\n",
    "#             CenterSpatialCropd(keys=['image', 'label'], roi_size=(176,176,128)),\n",
    "# #             RandSpatialCropd(keys=['image', 'label'], roi_size=(256,256,128), random_size=False),#roi_size=(272,272,144), random_size=False),\n",
    "#             RandFlipd(\n",
    "#                 keys=[\"image\", \"label\"],\n",
    "#                 spatial_axis=[0],\n",
    "#                 prob=0.10,\n",
    "#             ),\n",
    "#             RandFlipd(\n",
    "#                 keys=[\"image\", \"label\"],\n",
    "#                 spatial_axis=[1],\n",
    "#                 prob=0.10,\n",
    "#             ),\n",
    "#             RandFlipd(\n",
    "#                 keys=[\"image\", \"label\"],\n",
    "#                 spatial_axis=[2],\n",
    "#                 prob=0.10,\n",
    "#             ),\n",
    "#             RandRotate90d(\n",
    "#                 keys=[\"image\", \"label\"],\n",
    "#                 prob=0.10,\n",
    "#                 max_k=3,\n",
    "#             ),\n",
    "\n",
    "#         ]\n",
    "# )\n",
    "\n",
    "# db = CacheDataset(\n",
    "#     data=files, transform=transforms, cache_num=6, cache_rate=1.0, num_workers=4\n",
    "# )\n",
    "# print(len(db))\n",
    "# for _ in range(len(db)):\n",
    "       \n",
    "#     mask_voxel_count2 = np.count_nonzero(db[_]['label'][0]!=0)\n",
    "#     volume2 = calculate_volume(mask_voxel_count2, transforms.transforms[3].spacing_transform.pixdim[0], transforms.transforms[3].spacing_transform.pixdim[1], transforms.transforms[3].spacing_transform.pixdim[2])\n",
    "    \n",
    "#     tmp_itk = sitk.GetImageFromArray(db[_]['label'][0])\n",
    "#     tmp_itk.SetSpacing((0.8 ,0.8 ,0.8))\n",
    "#     sitk.WriteImage(tmp_itk, \"tmp.nii.gz\")\n",
    "#     tmp_mask_voxel_count, tmp_pixel_spacing_x, tmp_pixel_spacing_y, tmp_slice_gap = read_nifti_spacing_and_mask_count(\"tmp.nii.gz\")\n",
    "#     tmp_volume = calculate_volume(tmp_mask_voxel_count, tmp_pixel_spacing_x, tmp_pixel_spacing_y, tmp_slice_gap)\n",
    "    \n",
    "#     print(db[_].keys())\n",
    "#     no = db[_]['label_meta_dict']['filename_or_obj'].split('/')[-1][:8]\n",
    "    \n",
    "#     original_nifti_file_path=''\n",
    "#     # 디렉토리 탐색\n",
    "#     for root, dirs, files in os.walk(directory_path):\n",
    "#         for file in files:\n",
    "#             if no in file:\n",
    "#                 # 검색한 문자열을 포함한 파일의 전체 경로 출력\n",
    "#                 original_nifti_file_path = os.path.join(root, file)\n",
    "# #                 print(\"\\t Original file name:\", original_nifti_file_path)\n",
    "                \n",
    "#     mask_voxel_count, pixel_spacing_x, pixel_spacing_y, slice_gap = read_nifti_spacing_and_mask_count(original_nifti_file_path)\n",
    "#     volume = calculate_volume(mask_voxel_count, pixel_spacing_x, pixel_spacing_y, slice_gap)\n",
    "    \n",
    "#     print(f\"No: {no}, Volume: {np.round(volume,1)} (cc), Transformed Volume: {np.round(volume2,1)} (cc)\")\n",
    "#     print(f\"tmp_volume: {np.round(tmp_volume,1)} (cc)\")\n",
    "#     print(f\"\\t Original Pixel Spacing (x): {np.round(float(pixel_spacing_x),3)}\")\n",
    "#     print(f\"\\t Original Pixel Spacing (y): {np.round(float(pixel_spacing_y),3)}\")\n",
    "#     print(f\"\\t Original Slice Gap: {np.round(float(slice_gap),3)}\")\n",
    "#     print('------------------------------------------------------')\n",
    "# # print('done')\n",
    "\n",
    "\n",
    "# import os\n",
    "# import numpy as np\n",
    "\n",
    "# 디렉토리 경로 설정\n",
    "base_directory = '/data/hanyang_Prostate/Prostate/prostate_1c_test_result/test_morph_close5_2task/'\n",
    "base_directory2 = '/data/hanyang_Prostate/Prostate/prostate_1c_test_result/test_morph_close5/'\n",
    "directory_paths = [os.path.join(base_directory, f'vnet_2task_30000_fold{i}/test/') for i in range(1, 6)]\n",
    "directory_paths2 = [os.path.join(base_directory2, f'vnet_30000_fold{i}/test/') for i in range(1, 6)]\n",
    "# directory_path_realgt = '/data/hanyang_Prostate/50_example/original/1_50_trim_20230130/Total volume/'\n",
    "\n",
    "# 초기화할 리스트\n",
    "a_lists = [[] for _ in range(5)]  # 각 폴드의 volume_gt 리스트\n",
    "b_lists = [[] for _ in range(5)]  # 각 폴드의 volume_pred 리스트\n",
    "# c_lists = [[] for _ in range(5)]  # 각 폴드의 volume_realgt 리스트\n",
    "d_lists = [[] for _ in range(5)]  # 각 폴드의 volume_TRUS 리스트\n",
    "cnt = 0\n",
    "# 디렉토리별로 처리\n",
    "for fold_idx, directory_path in enumerate(directory_paths, start=1):\n",
    "    print(\"==============================\\nDirectory: \", directory_path)\n",
    "    # 디렉토리 내의 모든 파일 검색\n",
    "    for filename in os.listdir(directory_path):\n",
    "        # 파일 이름이 \"_gt.nii.gz\"로 끝나는 경우에만 처리\n",
    "        if filename.endswith('_gt.nii.gz'):\n",
    "            print(\"Patient id:\",filename[:-10])\n",
    "            # 파일의 전체 경로 생성\n",
    "            gt_file_path = os.path.join(directory_path, filename)\n",
    "            \n",
    "            # 해당 _gt 파일과 동일한 이름 구조를 가진 _pred 파일 찾기\n",
    "            pred_filename = filename.replace('_gt.nii.gz', '_pred.nii.gz')\n",
    "            pred_file_path = os.path.join(directory_path, pred_filename)\n",
    "            pred_file_path2 = os.path.join(directory_paths2[fold_idx-1], pred_filename)\n",
    "            \n",
    "            # 해당 _gt 파일과 동일한 이름 구조를 가진 _image 파일 찾기\n",
    "            img_filename = filename.replace('_gt.nii.gz', '_img.nii.gz')\n",
    "            img_file_path = os.path.join(directory_path, img_filename)\n",
    "    \n",
    "            # _pred 파일이 존재하면 계산 수행\n",
    "            if os.path.exists(pred_file_path):\n",
    "                # NIfTI 파일 열기\n",
    "                gt_label = nib.load(gt_file_path).get_fdata()\n",
    "                gt_label = np.moveaxis(gt_label, [0, 1, 2], [1, 0, 2])  # 축을 교환합니다.\n",
    "                pred_label = nib.load(pred_file_path).get_fdata()\n",
    "                pred_label = np.moveaxis(pred_label, [0, 1, 2], [1, 0, 2])  # 축을 교환합니다.\n",
    "                pred_label2 = nib.load(pred_file_path2).get_fdata()\n",
    "                pred_label2 = np.moveaxis(pred_label2, [0, 1, 2], [1, 0, 2])  # 축을 교환합니다.\n",
    "                ct_img = nib.load(img_file_path).get_fdata()\n",
    "                ct_img = np.moveaxis(ct_img, [0, 1, 2], [1, 0, 2])  # 축을 교환합니다.\n",
    "#                 print(\"gt_label.shape;\",gt_label.shape)\n",
    "#                 print(\"pred_label.shape;\",pred_label.shape)\n",
    "#                 print(\"ct_img.shape;\",ct_img.shape)\n",
    "                # _gt 파일의 정보를 읽어오고 volume 계산\n",
    "                mask_voxel_count_gt, pixel_spacing_x_gt, pixel_spacing_y_gt, slice_gap_gt = read_nifti_spacing_and_mask_count(gt_file_path)\n",
    "                volume_gt = calculate_volume(mask_voxel_count_gt, pixel_spacing_x_gt, pixel_spacing_y_gt, slice_gap_gt)\n",
    "                \n",
    "                # _pred 파일의 정보를 읽어오고 volume 계산\n",
    "                mask_voxel_count_pred, pixel_spacing_x_pred, pixel_spacing_y_pred, slice_gap_pred = read_nifti_spacing_and_mask_count(pred_file_path)\n",
    "                volume_pred = calculate_volume(mask_voxel_count_pred, pixel_spacing_x_pred, pixel_spacing_y_pred, slice_gap_pred)\n",
    "                \n",
    "                # _pred 파일의 정보를 읽어오고 volume 계산\n",
    "                mask_voxel_count_pred2, pixel_spacing_x_pred2, pixel_spacing_y_pred2, slice_gap_pred2 = read_nifti_spacing_and_mask_count(pred_file_path2)\n",
    "                volume_pred2 = calculate_volume(mask_voxel_count_pred2, pixel_spacing_x_pred2, pixel_spacing_y_pred2, slice_gap_pred2)\n",
    "                \n",
    "                ve = np.abs(volume_gt-volume_pred)\n",
    "                ve2 = np.abs(volume_gt-volume_pred2)\n",
    "                print(\"volume_gt-volume_pred\", ve)\n",
    "                print(\"volume_gt-volume_pred2\", ve2)\n",
    "                \n",
    "                dice = metric.binary.dc(pred_label, gt_label)\n",
    "                dice2 = metric.binary.dc(pred_label2, gt_label)\n",
    "                print(\"dice\", dice)\n",
    "                print(\"dice2\",dice2)\n",
    "                if dice>dice2 and ve>ve2:\n",
    "                    print(\"-------------need to check-------------\")\n",
    "                \n",
    "                @interact(z=(0,ct_img.shape[2]-1))\n",
    "                def visualize_data(z):\n",
    "#                     ct_img = ct_img.get_fdata()\n",
    "                    fig, axes = plt.subplots(2, 2, figsize=(10, 10))  # 5개의 subplot을 생성합니다.\n",
    "                    # 첫 번째 subplot에는 원본 이미지를 표시합니다.\n",
    "                    axes[0,0].imshow(ct_img[:, :, z], cmap='gray')\n",
    "                    axes[0,0].set_title('CT Image slices')\n",
    "                    axes[0,0].axis('off')\n",
    "                    # 두 번째 subplot에는 GT label z번째 슬라이스를 표시합니다.\n",
    "                    axes[1,0].imshow(ct_img[:, :, z], cmap='gray')\n",
    "                    axes[1,0].imshow(np.where(gt_label[:, :, z] == 1, gt_label[:, :, z], np.nan), cmap='cool', alpha=0.3)\n",
    "                    axes[1,0].set_title('GT mask slices')\n",
    "                    axes[1,0].axis('off')\n",
    "                    # 세 번째 subplot에는 Pred label의 z번째 슬라이스를 표시합니다.\n",
    "                    axes[1,1].imshow(ct_img[:, :, z], cmap='gray')\n",
    "                    axes[1,1].imshow(np.where(pred_label[:, :, z] == 1, pred_label[:, :, z], np.nan), cmap='autumn', alpha=0.3)\n",
    "                    axes[1,1].set_title('Pred mask slices')\n",
    "                    axes[1,1].axis('off')\n",
    "                    ## 볼륨값이랑 dice 계산해서 output하게 하자..\n",
    "                    \n",
    "                    # 세 번째 subplot에는 Pred label의 z번째 슬라이스를 표시합니다.\n",
    "#                     blended_mask = np.zeros_like(gt_label[:, :, z])  # blended_mask를 모두 0으로 초기화합니다.\n",
    "#                     gt_mask = np.where(gt_label[:, :, z] == 1, gt_label[:, :, z], 0)\n",
    "#                     pred_mask = np.where(pred_label[:, :, z] == 1, pred_label[:, :, z], 0)\n",
    "#                     blended_mask = np.where(gt_mask + pred_mask > 0, 0.7 * gt_mask + 0.3 * pred_mask, np.nan)\n",
    "                    axes[0,1].imshow(np.where(gt_label[:, :, z] == 1, gt_label[:, :, z], np.nan), cmap='cool', alpha=0.5)\n",
    "                    \n",
    "                    axes[0,1].imshow(np.where(pred_label2[:, :, z] == 1, pred_label2[:, :, z], np.nan), cmap='winter', alpha=0.5)\n",
    "                    axes[0,1].imshow(np.where(pred_label[:, :, z] == 1, pred_label[:, :, z], np.nan), cmap='autumn', alpha=0.5)\n",
    "                    axes[0,1].set_title('GT & Pred mask slices')\n",
    "                    axes[0,1].axis('off')\n",
    "                    plt.show()\n",
    "#                 visualize_data()\n",
    "#                 break\n",
    "                # _gt 파일의 정보를 읽어오고 volume 계산\n",
    "#                 mask_voxel_count_gt, pixel_spacing_x_gt, pixel_spacing_y_gt, slice_gap_gt = read_nifti_spacing_and_mask_count(gt_file_path)\n",
    "#                 volume_gt = calculate_volume(mask_voxel_count_gt, pixel_spacing_x_gt, pixel_spacing_y_gt, slice_gap_gt)\n",
    "                \n",
    "#                 # _pred 파일의 정보를 읽어오고 volume 계산\n",
    "#                 mask_voxel_count_pred, pixel_spacing_x_pred, pixel_spacing_y_pred, slice_gap_pred = read_nifti_spacing_and_mask_count(pred_file_path)\n",
    "#                 volume_pred = calculate_volume(mask_voxel_count_pred, pixel_spacing_x_pred, pixel_spacing_y_pred, slice_gap_pred)\n",
    "                \n",
    "#                 # 검색할 문자열 설정\n",
    "#                 a_value = filename.split(\"_\")[1]\n",
    "    \n",
    "#                 # /data/hanyang_Prostate/50_example/original/1_50_trim_20230130/Total volume/ 디렉토리 내의 파일 검색\n",
    "#                 for realgt_filename in os.listdir(directory_path_realgt):\n",
    "#                     # 파일 이름에 검색할 문자열이 포함되어 있는지 확인\n",
    "#                     if a_value in realgt_filename:\n",
    "#                         mask_voxel_count_realgt, pixel_spacing_x_realgt, pixel_spacing_y_realgt, slice_gap_realgt = read_nifti_spacing_and_mask_count(os.path.join(directory_path_realgt, realgt_filename))\n",
    "#                         volume_realgt = calculate_volume(mask_voxel_count_realgt, pixel_spacing_x_realgt, pixel_spacing_y_realgt, slice_gap_realgt)\n",
    "                        \n",
    "#                         # 값 저장\n",
    "#                         if a_value in TRUS:\n",
    "#                             cnt += 1\n",
    "#                             a_lists[fold_idx - 1].append(volume_gt)\n",
    "#                             b_lists[fold_idx - 1].append(volume_pred)\n",
    "#                             c_lists[fold_idx - 1].append(volume_realgt)\n",
    "#                             d_lists[fold_idx - 1].append(TRUS[a_value])\n",
    "#                             # 출력\n",
    "#                             print(f\"No.: {a_value}\")\n",
    "#                             print(f\"\\t Volume (TRUS): {TRUS[a_value]}\")\n",
    "#                             print(f\"\\t Pixel Spacing X (realgt): {np.round(float(pixel_spacing_x_realgt),3)}\")\n",
    "#                             print(f\"\\t Volume (realgt): {np.round(volume_realgt,1)}\")\n",
    "#                             print(f\"\\t Pixel Spacing X (gt): {np.round(float(pixel_spacing_x_gt),3)}\")\n",
    "#                             print(f\"\\t Volume (gt): {np.round(volume_gt,1)}\")\n",
    "#                             print(f\"\\t Pixel Spacing X (pred): {np.round(float(pixel_spacing_x_pred),3)}\")\n",
    "#                             print(f\"\\t Volume (pred): {np.round(volume_pred,1)}\")\n",
    "#                             print(\"-----------------------------------------\")\n",
    "print(cnt)"
   ]
  },
  {
   "cell_type": "code",
   "execution_count": 22,
   "metadata": {
    "scrolled": false
   },
   "outputs": [
    {
     "name": "stdout",
     "output_type": "stream",
     "text": [
      "==============================\n",
      "Directory:  /data/hanyang_Prostate/Prostate/prostate_1c_test_result/test_morph_close5_2task/vnet_2task_30000_fold1/test/\n",
      "Patient id: 0_00800131\n",
      "volume_gt-volume_pred 0.536576023986818\n",
      "volume_gt-volume_pred2 22.83776102092744\n",
      "dice 0.8729874176956456\n",
      "dice2 0.41098961974227416\n"
     ]
    },
    {
     "data": {
      "application/vnd.jupyter.widget-view+json": {
       "model_id": "4c6c7f85ae354131b958970fd1a649eb",
       "version_major": 2,
       "version_minor": 0
      },
      "text/plain": [
       "interactive(children=(IntSlider(value=63, description='z', max=127), Output()), _dom_classes=('widget-interact…"
      ]
     },
     "metadata": {},
     "output_type": "display_data"
    },
    {
     "name": "stdout",
     "output_type": "stream",
     "text": [
      "Patient id: 1_00818049\n",
      "volume_gt-volume_pred 0.27443201226806835\n",
      "volume_gt-volume_pred2 15.04102467238618\n",
      "dice 0.8327199439186821\n",
      "dice2 0.25873684741742575\n"
     ]
    },
    {
     "data": {
      "application/vnd.jupyter.widget-view+json": {
       "model_id": "3598bf657a6845828bb36136a34dd721",
       "version_major": 2,
       "version_minor": 0
      },
      "text/plain": [
       "interactive(children=(IntSlider(value=63, description='z', max=127), Output()), _dom_classes=('widget-interact…"
      ]
     },
     "metadata": {},
     "output_type": "display_data"
    },
    {
     "name": "stdout",
     "output_type": "stream",
     "text": [
      "Patient id: 2_00851016\n",
      "volume_gt-volume_pred 1.3030400582504242\n",
      "volume_gt-volume_pred2 24.557057097785965\n",
      "dice 0.9222183751196562\n",
      "dice2 0.5289804572090421\n"
     ]
    },
    {
     "data": {
      "application/vnd.jupyter.widget-view+json": {
       "model_id": "729e46728e2445b486e944304a41dd42",
       "version_major": 2,
       "version_minor": 0
      },
      "text/plain": [
       "interactive(children=(IntSlider(value=63, description='z', max=127), Output()), _dom_classes=('widget-interact…"
      ]
     },
     "metadata": {},
     "output_type": "display_data"
    },
    {
     "name": "stdout",
     "output_type": "stream",
     "text": [
      "Patient id: 3_01054688\n",
      "volume_gt-volume_pred 3.505152156692507\n",
      "volume_gt-volume_pred2 11.69203252267457\n",
      "dice 0.7599899542359638\n",
      "dice2 0.4307692307692308\n"
     ]
    },
    {
     "data": {
      "application/vnd.jupyter.widget-view+json": {
       "model_id": "b225d791b07440d8aa18eee3ca7c77c6",
       "version_major": 2,
       "version_minor": 0
      },
      "text/plain": [
       "interactive(children=(IntSlider(value=63, description='z', max=127), Output()), _dom_classes=('widget-interact…"
      ]
     },
     "metadata": {},
     "output_type": "display_data"
    },
    {
     "name": "stdout",
     "output_type": "stream",
     "text": [
      "Patient id: 4_01094573\n",
      "volume_gt-volume_pred 0.22681601013946562\n",
      "volume_gt-volume_pred2 15.711232702346813\n",
      "dice 0.9352318751947197\n",
      "dice2 0.4474376057910469\n"
     ]
    },
    {
     "data": {
      "application/vnd.jupyter.widget-view+json": {
       "model_id": "393d1b68b26c46189ce64d0fd0a8b516",
       "version_major": 2,
       "version_minor": 0
      },
      "text/plain": [
       "interactive(children=(IntSlider(value=63, description='z', max=127), Output()), _dom_classes=('widget-interact…"
      ]
     },
     "metadata": {},
     "output_type": "display_data"
    },
    {
     "name": "stdout",
     "output_type": "stream",
     "text": [
      "Patient id: 5_01106379\n",
      "volume_gt-volume_pred 1.1161600498962407\n",
      "volume_gt-volume_pred2 23.629313056312576\n",
      "dice 0.9361963393790551\n",
      "dice2 0.3971523741101169\n"
     ]
    },
    {
     "data": {
      "application/vnd.jupyter.widget-view+json": {
       "model_id": "a1e2fce9bf3c4835908cdf30dcde7dcb",
       "version_major": 2,
       "version_minor": 0
      },
      "text/plain": [
       "interactive(children=(IntSlider(value=63, description='z', max=127), Output()), _dom_classes=('widget-interact…"
      ]
     },
     "metadata": {},
     "output_type": "display_data"
    },
    {
     "name": "stdout",
     "output_type": "stream",
     "text": [
      "Patient id: 6_01115241\n",
      "volume_gt-volume_pred 0.6359040284271344\n",
      "volume_gt-volume_pred2 30.6478093700638\n",
      "dice 0.8886950302347255\n",
      "dice2 0.5246984651299439\n"
     ]
    },
    {
     "data": {
      "application/vnd.jupyter.widget-view+json": {
       "model_id": "ee8e02e7199441228a3e7bb1145862d1",
       "version_major": 2,
       "version_minor": 0
      },
      "text/plain": [
       "interactive(children=(IntSlider(value=63, description='z', max=127), Output()), _dom_classes=('widget-interact…"
      ]
     },
     "metadata": {},
     "output_type": "display_data"
    },
    {
     "name": "stdout",
     "output_type": "stream",
     "text": [
      "Patient id: 7_01228200\n",
      "volume_gt-volume_pred 3.167232141586304\n",
      "volume_gt-volume_pred2 20.827648931068435\n",
      "dice 0.8673756594138169\n",
      "dice2 0.43344800211696216\n"
     ]
    },
    {
     "data": {
      "application/vnd.jupyter.widget-view+json": {
       "model_id": "e94bf2170d1b4cf6a97548fe9ec93585",
       "version_major": 2,
       "version_minor": 0
      },
      "text/plain": [
       "interactive(children=(IntSlider(value=63, description='z', max=127), Output()), _dom_classes=('widget-interact…"
      ]
     },
     "metadata": {},
     "output_type": "display_data"
    },
    {
     "name": "stdout",
     "output_type": "stream",
     "text": [
      "Patient id: 8_01264293\n",
      "volume_gt-volume_pred 10.22822445723725\n",
      "volume_gt-volume_pred2 28.637697280204794\n",
      "dice 0.8337376456784169\n",
      "dice2 0.456766022746035\n"
     ]
    },
    {
     "data": {
      "application/vnd.jupyter.widget-view+json": {
       "model_id": "4fd0085525ff408ca83ce365aa0cd165",
       "version_major": 2,
       "version_minor": 0
      },
      "text/plain": [
       "interactive(children=(IntSlider(value=63, description='z', max=127), Output()), _dom_classes=('widget-interact…"
      ]
     },
     "metadata": {},
     "output_type": "display_data"
    },
    {
     "name": "stdout",
     "output_type": "stream",
     "text": [
      "Patient id: 9_01663839\n",
      "volume_gt-volume_pred 1.3844480618896498\n",
      "volume_gt-volume_pred2 22.874625022575394\n",
      "dice 0.9195145651140193\n",
      "dice2 0.1842052405733589\n"
     ]
    },
    {
     "data": {
      "application/vnd.jupyter.widget-view+json": {
       "model_id": "dc614b184022402fad953a538df6c85f",
       "version_major": 2,
       "version_minor": 0
      },
      "text/plain": [
       "interactive(children=(IntSlider(value=63, description='z', max=127), Output()), _dom_classes=('widget-interact…"
      ]
     },
     "metadata": {},
     "output_type": "display_data"
    },
    {
     "name": "stdout",
     "output_type": "stream",
     "text": [
      "=============\n",
      "Avg dice: 0.8768666805984701\n",
      "Avg dice with SDF: 0.40731838656054353\n",
      "Avg volume estimation dist: 2.2377985000373863\n",
      "Avg volume estimation dist with SDF: 21.645620167634597\n",
      "=============\n",
      "==============================\n",
      "Directory:  /data/hanyang_Prostate/Prostate/prostate_1c_test_result/test_morph_close5_2task/vnet_2task_30000_fold2/test/\n",
      "Patient id: 0_01776461\n",
      "volume_gt-volume_pred 2.453504109680182\n",
      "volume_gt-volume_pred2 15.578112696395888\n",
      "dice 0.9124127362506386\n",
      "dice2 0.7669605313142692\n"
     ]
    },
    {
     "data": {
      "application/vnd.jupyter.widget-view+json": {
       "model_id": "7ecf9b2bea55404ca53a1171da01709b",
       "version_major": 2,
       "version_minor": 0
      },
      "text/plain": [
       "interactive(children=(IntSlider(value=63, description='z', max=127), Output()), _dom_classes=('widget-interact…"
      ]
     },
     "metadata": {},
     "output_type": "display_data"
    },
    {
     "name": "stdout",
     "output_type": "stream",
     "text": [
      "Patient id: 1_01804929\n",
      "volume_gt-volume_pred 1.3214720590743987\n",
      "volume_gt-volume_pred2 9.057792404914863\n",
      "dice 0.8910252223775128\n",
      "dice2 0.7694422323795395\n"
     ]
    },
    {
     "data": {
      "application/vnd.jupyter.widget-view+json": {
       "model_id": "73315af3ce3149b49b4430c2aeb5d011",
       "version_major": 2,
       "version_minor": 0
      },
      "text/plain": [
       "interactive(children=(IntSlider(value=63, description='z', max=127), Output()), _dom_classes=('widget-interact…"
      ]
     },
     "metadata": {},
     "output_type": "display_data"
    },
    {
     "name": "stdout",
     "output_type": "stream",
     "text": [
      "Patient id: 2_01904278\n",
      "volume_gt-volume_pred 5.6033282504882855\n",
      "volume_gt-volume_pred2 7.933440354652408\n",
      "dice 0.8494211619936854\n",
      "dice2 0.7875166846755228\n"
     ]
    },
    {
     "data": {
      "application/vnd.jupyter.widget-view+json": {
       "model_id": "b23e2e2d324e43aeb1779e5bd8d902b0",
       "version_major": 2,
       "version_minor": 0
      },
      "text/plain": [
       "interactive(children=(IntSlider(value=63, description='z', max=127), Output()), _dom_classes=('widget-interact…"
      ]
     },
     "metadata": {},
     "output_type": "display_data"
    },
    {
     "name": "stdout",
     "output_type": "stream",
     "text": [
      "Patient id: 3_01972333\n",
      "volume_gt-volume_pred 0.4597760205535941\n",
      "volume_gt-volume_pred2 2.6792961197738627\n",
      "dice 0.9320340472974422\n",
      "dice2 0.8786577208212205\n"
     ]
    },
    {
     "data": {
      "application/vnd.jupyter.widget-view+json": {
       "model_id": "0a9496c7f37c4f5c89bef215ac2f67d4",
       "version_major": 2,
       "version_minor": 0
      },
      "text/plain": [
       "interactive(children=(IntSlider(value=63, description='z', max=127), Output()), _dom_classes=('widget-interact…"
      ]
     },
     "metadata": {},
     "output_type": "display_data"
    },
    {
     "name": "stdout",
     "output_type": "stream",
     "text": [
      "Patient id: 4_01986175\n",
      "volume_gt-volume_pred 3.575296159828188\n",
      "volume_gt-volume_pred2 0.9451520422515856\n",
      "dice 0.8600505011860127\n",
      "dice2 0.8201889844841532\n",
      "-------------need to check-------------\n"
     ]
    },
    {
     "data": {
      "application/vnd.jupyter.widget-view+json": {
       "model_id": "8da1f4c7ed184410874044aa20f33333",
       "version_major": 2,
       "version_minor": 0
      },
      "text/plain": [
       "interactive(children=(IntSlider(value=63, description='z', max=127), Output()), _dom_classes=('widget-interact…"
      ]
     },
     "metadata": {},
     "output_type": "display_data"
    },
    {
     "name": "stdout",
     "output_type": "stream",
     "text": [
      "Patient id: 5_02009786\n",
      "volume_gt-volume_pred 5.778944258338932\n",
      "volume_gt-volume_pred2 12.34892855204011\n",
      "dice 0.8758396452295107\n",
      "dice2 0.771979462257321\n"
     ]
    },
    {
     "data": {
      "application/vnd.jupyter.widget-view+json": {
       "model_id": "cf29308e68d74eae9040e9a0b44d9929",
       "version_major": 2,
       "version_minor": 0
      },
      "text/plain": [
       "interactive(children=(IntSlider(value=63, description='z', max=127), Output()), _dom_classes=('widget-interact…"
      ]
     },
     "metadata": {},
     "output_type": "display_data"
    },
    {
     "name": "stdout",
     "output_type": "stream",
     "text": [
      "Patient id: 6_02063805\n",
      "volume_gt-volume_pred 3.90553617459107\n",
      "volume_gt-volume_pred2 8.491008379577643\n",
      "dice 0.8712495028796159\n",
      "dice2 0.8606309331343531\n"
     ]
    },
    {
     "data": {
      "application/vnd.jupyter.widget-view+json": {
       "model_id": "61c882bb8d714cd4b2fe3a18e7f1ce42",
       "version_major": 2,
       "version_minor": 0
      },
      "text/plain": [
       "interactive(children=(IntSlider(value=63, description='z', max=127), Output()), _dom_classes=('widget-interact…"
      ]
     },
     "metadata": {},
     "output_type": "display_data"
    },
    {
     "name": "stdout",
     "output_type": "stream",
     "text": [
      "Patient id: 7_02141859\n",
      "volume_gt-volume_pred 1.5313920684585618\n",
      "volume_gt-volume_pred2 6.695424299308783\n",
      "dice 0.8711011614152913\n",
      "dice2 0.7870317291331131\n"
     ]
    },
    {
     "data": {
      "application/vnd.jupyter.widget-view+json": {
       "model_id": "749da0358e444a0e9798b13e282e030d",
       "version_major": 2,
       "version_minor": 0
      },
      "text/plain": [
       "interactive(children=(IntSlider(value=63, description='z', max=127), Output()), _dom_classes=('widget-interact…"
      ]
     },
     "metadata": {},
     "output_type": "display_data"
    },
    {
     "name": "stdout",
     "output_type": "stream",
     "text": [
      "Patient id: 8_02150142\n",
      "volume_gt-volume_pred 3.889152173858644\n",
      "volume_gt-volume_pred2 0.32256001441955817\n",
      "dice 0.8744622604614783\n",
      "dice2 0.8526824413266125\n",
      "-------------need to check-------------\n"
     ]
    },
    {
     "data": {
      "application/vnd.jupyter.widget-view+json": {
       "model_id": "89f0793f107c48c292e3a67235d2c9e9",
       "version_major": 2,
       "version_minor": 0
      },
      "text/plain": [
       "interactive(children=(IntSlider(value=63, description='z', max=127), Output()), _dom_classes=('widget-interact…"
      ]
     },
     "metadata": {},
     "output_type": "display_data"
    },
    {
     "name": "stdout",
     "output_type": "stream",
     "text": [
      "Patient id: 9_02153845\n",
      "volume_gt-volume_pred 1.651712073837281\n",
      "volume_gt-volume_pred2 0.6108160273056065\n",
      "dice 0.8740264228182567\n",
      "dice2 0.8531790710615884\n",
      "-------------need to check-------------\n"
     ]
    },
    {
     "data": {
      "application/vnd.jupyter.widget-view+json": {
       "model_id": "2e10a63951674d74bbd29bd7572ef6b5",
       "version_major": 2,
       "version_minor": 0
      },
      "text/plain": [
       "interactive(children=(IntSlider(value=63, description='z', max=127), Output()), _dom_classes=('widget-interact…"
      ]
     },
     "metadata": {},
     "output_type": "display_data"
    },
    {
     "name": "stdout",
     "output_type": "stream",
     "text": [
      "=============\n",
      "Avg dice: 0.8811622661909444\n",
      "Avg dice with SDF: 0.8148269790587692\n",
      "Avg volume estimation dist: 3.0170113348709138\n",
      "Avg volume estimation dist with SDF: 6.46625308906403\n",
      "=============\n",
      "==============================\n",
      "Directory:  /data/hanyang_Prostate/Prostate/prostate_1c_test_result/test_morph_close5_2task/vnet_2task_30000_fold3/test/\n",
      "Patient id: 0_02161060\n",
      "volume_gt-volume_pred 0.9579520428237913\n",
      "volume_gt-volume_pred2 15.433216689918524\n",
      "dice 0.8331799878120183\n",
      "dice2 0.6985298566156453\n"
     ]
    },
    {
     "data": {
      "application/vnd.jupyter.widget-view+json": {
       "model_id": "35b211c01ea842309f50ee226e4e55a6",
       "version_major": 2,
       "version_minor": 0
      },
      "text/plain": [
       "interactive(children=(IntSlider(value=63, description='z', max=127), Output()), _dom_classes=('widget-interact…"
      ]
     },
     "metadata": {},
     "output_type": "display_data"
    },
    {
     "name": "stdout",
     "output_type": "stream",
     "text": [
      "Patient id: 1_02179375\n",
      "volume_gt-volume_pred 3.392000151634221\n",
      "volume_gt-volume_pred2 6.60889629544068\n",
      "dice 0.8949975448601432\n",
      "dice2 0.8145901639344262\n"
     ]
    },
    {
     "data": {
      "application/vnd.jupyter.widget-view+json": {
       "model_id": "191ef78dae214786a53faec370b63998",
       "version_major": 2,
       "version_minor": 0
      },
      "text/plain": [
       "interactive(children=(IntSlider(value=63, description='z', max=127), Output()), _dom_classes=('widget-interact…"
      ]
     },
     "metadata": {},
     "output_type": "display_data"
    },
    {
     "name": "stdout",
     "output_type": "stream",
     "text": [
      "Patient id: 2_02179650\n",
      "volume_gt-volume_pred 9.273344414550788\n",
      "volume_gt-volume_pred2 19.76832088371278\n",
      "dice 0.8035901302836077\n",
      "dice2 0.6668793433463813\n"
     ]
    },
    {
     "data": {
      "application/vnd.jupyter.widget-view+json": {
       "model_id": "796687e7bc2d41f2946d2f6f858c13a2",
       "version_major": 2,
       "version_minor": 0
      },
      "text/plain": [
       "interactive(children=(IntSlider(value=63, description='z', max=127), Output()), _dom_classes=('widget-interact…"
      ]
     },
     "metadata": {},
     "output_type": "display_data"
    },
    {
     "name": "stdout",
     "output_type": "stream",
     "text": [
      "Patient id: 3_02286469\n",
      "volume_gt-volume_pred 3.3177601483154326\n",
      "volume_gt-volume_pred2 11.432960511093142\n",
      "dice 0.7950530035335689\n",
      "dice2 0.6825752043532544\n"
     ]
    },
    {
     "data": {
      "application/vnd.jupyter.widget-view+json": {
       "model_id": "1fcbdc9a467f40cc876335b92061fc4f",
       "version_major": 2,
       "version_minor": 0
      },
      "text/plain": [
       "interactive(children=(IntSlider(value=63, description='z', max=127), Output()), _dom_classes=('widget-interact…"
      ]
     },
     "metadata": {},
     "output_type": "display_data"
    },
    {
     "name": "stdout",
     "output_type": "stream",
     "text": [
      "Patient id: 4_02289873\n",
      "volume_gt-volume_pred 5.863424262115483\n",
      "volume_gt-volume_pred2 8.248320368728645\n",
      "dice 0.8437038858829317\n",
      "dice2 0.7655829288396373\n"
     ]
    },
    {
     "data": {
      "application/vnd.jupyter.widget-view+json": {
       "model_id": "74f6721407f04220819ed42ca08d0bac",
       "version_major": 2,
       "version_minor": 0
      },
      "text/plain": [
       "interactive(children=(IntSlider(value=63, description='z', max=127), Output()), _dom_classes=('widget-interact…"
      ]
     },
     "metadata": {},
     "output_type": "display_data"
    },
    {
     "name": "stdout",
     "output_type": "stream",
     "text": [
      "Patient id: 5_02348071\n",
      "volume_gt-volume_pred 5.319680237808232\n",
      "volume_gt-volume_pred2 9.777152437072758\n",
      "dice 0.842941793056239\n",
      "dice2 0.7967149129939828\n"
     ]
    },
    {
     "data": {
      "application/vnd.jupyter.widget-view+json": {
       "model_id": "bc56e2930c03462d934173af40a29af5",
       "version_major": 2,
       "version_minor": 0
      },
      "text/plain": [
       "interactive(children=(IntSlider(value=63, description='z', max=127), Output()), _dom_classes=('widget-interact…"
      ]
     },
     "metadata": {},
     "output_type": "display_data"
    },
    {
     "name": "stdout",
     "output_type": "stream",
     "text": [
      "Patient id: 6_02394910\n",
      "volume_gt-volume_pred 15.072768673805243\n",
      "volume_gt-volume_pred2 11.920384532882693\n",
      "dice 0.8198086698785197\n",
      "dice2 0.8478844551430423\n"
     ]
    },
    {
     "data": {
      "application/vnd.jupyter.widget-view+json": {
       "model_id": "75ea3ffd4fff459380fbfcb6e432aeb4",
       "version_major": 2,
       "version_minor": 0
      },
      "text/plain": [
       "interactive(children=(IntSlider(value=63, description='z', max=127), Output()), _dom_classes=('widget-interact…"
      ]
     },
     "metadata": {},
     "output_type": "display_data"
    },
    {
     "name": "stdout",
     "output_type": "stream",
     "text": [
      "Patient id: 7_02572186\n",
      "volume_gt-volume_pred 2.9235201306915286\n",
      "volume_gt-volume_pred2 8.065024360534679\n",
      "dice 0.8756135963693619\n",
      "dice2 0.830150566594559\n"
     ]
    },
    {
     "data": {
      "application/vnd.jupyter.widget-view+json": {
       "model_id": "c709a397f837406b837f1d2bd21ec82f",
       "version_major": 2,
       "version_minor": 0
      },
      "text/plain": [
       "interactive(children=(IntSlider(value=63, description='z', max=127), Output()), _dom_classes=('widget-interact…"
      ]
     },
     "metadata": {},
     "output_type": "display_data"
    },
    {
     "name": "stdout",
     "output_type": "stream",
     "text": [
      "Patient id: 8_02573669\n",
      "volume_gt-volume_pred 5.253632234855651\n",
      "volume_gt-volume_pred2 22.366720999870317\n",
      "dice 0.8824804893482388\n",
      "dice2 0.7187991024578045\n"
     ]
    },
    {
     "data": {
      "application/vnd.jupyter.widget-view+json": {
       "model_id": "105d8d76a769431ab006ee44a23cce68",
       "version_major": 2,
       "version_minor": 0
      },
      "text/plain": [
       "interactive(children=(IntSlider(value=63, description='z', max=127), Output()), _dom_classes=('widget-interact…"
      ]
     },
     "metadata": {},
     "output_type": "display_data"
    },
    {
     "name": "stdout",
     "output_type": "stream",
     "text": [
      "Patient id: 9_02603745\n",
      "volume_gt-volume_pred 2.9685761327056888\n",
      "volume_gt-volume_pred2 12.032512537895208\n",
      "dice 0.7085098870056498\n",
      "dice2 0.5806236610330874\n"
     ]
    },
    {
     "data": {
      "application/vnd.jupyter.widget-view+json": {
       "model_id": "fdeb3382c5704be69193619a76a9652f",
       "version_major": 2,
       "version_minor": 0
      },
      "text/plain": [
       "interactive(children=(IntSlider(value=63, description='z', max=127), Output()), _dom_classes=('widget-interact…"
      ]
     },
     "metadata": {},
     "output_type": "display_data"
    },
    {
     "name": "stdout",
     "output_type": "stream",
     "text": [
      "=============\n",
      "Avg dice: 0.8299878988030279\n",
      "Avg dice with SDF: 0.7402330195311821\n",
      "Avg volume estimation dist: 5.434265842930605\n",
      "Avg volume estimation dist with SDF: 12.565350961714941\n",
      "=============\n",
      "==============================\n",
      "Directory:  /data/hanyang_Prostate/Prostate/prostate_1c_test_result/test_morph_close5_2task/vnet_2task_30000_fold4/test/\n",
      "Patient id: 0_02610498\n",
      "volume_gt-volume_pred 5.858304261886598\n",
      "volume_gt-volume_pred2 21.807104974853534\n",
      "dice 0.8531652989449003\n",
      "dice2 0.6627251630014366\n"
     ]
    },
    {
     "data": {
      "application/vnd.jupyter.widget-view+json": {
       "model_id": "d96e227c40e0401094fd32934cd8492c",
       "version_major": 2,
       "version_minor": 0
      },
      "text/plain": [
       "interactive(children=(IntSlider(value=63, description='z', max=127), Output()), _dom_classes=('widget-interact…"
      ]
     },
     "metadata": {},
     "output_type": "display_data"
    },
    {
     "name": "stdout",
     "output_type": "stream",
     "text": [
      "Patient id: 1_02744296\n",
      "volume_gt-volume_pred 0.6917120309219378\n",
      "volume_gt-volume_pred2 11.43756851129914\n",
      "dice 0.9310019854885492\n",
      "dice2 0.8182927671724963\n"
     ]
    },
    {
     "data": {
      "application/vnd.jupyter.widget-view+json": {
       "model_id": "84b15f2f1aeb41d3902cf62eb2a4a015",
       "version_major": 2,
       "version_minor": 0
      },
      "text/plain": [
       "interactive(children=(IntSlider(value=63, description='z', max=127), Output()), _dom_classes=('widget-interact…"
      ]
     },
     "metadata": {},
     "output_type": "display_data"
    },
    {
     "name": "stdout",
     "output_type": "stream",
     "text": [
      "Patient id: 2_02786444\n",
      "volume_gt-volume_pred 1.2395520554122896\n",
      "volume_gt-volume_pred2 15.678464700881971\n",
      "dice 0.8176718635150296\n",
      "dice2 0.7060559064946855\n"
     ]
    },
    {
     "data": {
      "application/vnd.jupyter.widget-view+json": {
       "model_id": "ed500af8c43b49c8a30a54302b8a6fc7",
       "version_major": 2,
       "version_minor": 0
      },
      "text/plain": [
       "interactive(children=(IntSlider(value=63, description='z', max=127), Output()), _dom_classes=('widget-interact…"
      ]
     },
     "metadata": {},
     "output_type": "display_data"
    },
    {
     "name": "stdout",
     "output_type": "stream",
     "text": [
      "Patient id: 3_02793452\n",
      "volume_gt-volume_pred 5.9827202674484266\n",
      "volume_gt-volume_pred2 4.716032210823062\n",
      "dice 0.8332857822158821\n",
      "dice2 0.8420863271288135\n"
     ]
    },
    {
     "data": {
      "application/vnd.jupyter.widget-view+json": {
       "model_id": "d39d7a6748d748dba60fee3d6b85994b",
       "version_major": 2,
       "version_minor": 0
      },
      "text/plain": [
       "interactive(children=(IntSlider(value=63, description='z', max=127), Output()), _dom_classes=('widget-interact…"
      ]
     },
     "metadata": {},
     "output_type": "display_data"
    },
    {
     "name": "stdout",
     "output_type": "stream",
     "text": [
      "Patient id: 4_02820034\n",
      "volume_gt-volume_pred 0.4848640216751079\n",
      "volume_gt-volume_pred2 4.115456183975223\n",
      "dice 0.9266550417894294\n",
      "dice2 0.8793357933579335\n"
     ]
    },
    {
     "data": {
      "application/vnd.jupyter.widget-view+json": {
       "model_id": "9746e5a12c6f4658ac7a3e878655e409",
       "version_major": 2,
       "version_minor": 0
      },
      "text/plain": [
       "interactive(children=(IntSlider(value=63, description='z', max=127), Output()), _dom_classes=('widget-interact…"
      ]
     },
     "metadata": {},
     "output_type": "display_data"
    },
    {
     "name": "stdout",
     "output_type": "stream",
     "text": [
      "Patient id: 5_02882776\n",
      "volume_gt-volume_pred 1.7459200780487087\n",
      "volume_gt-volume_pred2 19.075584852745067\n",
      "dice 0.9242546536851133\n",
      "dice2 0.6699723349154579\n"
     ]
    },
    {
     "data": {
      "application/vnd.jupyter.widget-view+json": {
       "model_id": "3d0993e056164c9ca2327effa09c2496",
       "version_major": 2,
       "version_minor": 0
      },
      "text/plain": [
       "interactive(children=(IntSlider(value=63, description='z', max=127), Output()), _dom_classes=('widget-interact…"
      ]
     },
     "metadata": {},
     "output_type": "display_data"
    },
    {
     "name": "stdout",
     "output_type": "stream",
     "text": [
      "Patient id: 6_02948957\n",
      "volume_gt-volume_pred 4.716544210845946\n",
      "volume_gt-volume_pred2 0.5867520262298527\n",
      "dice 0.9172799884172679\n",
      "dice2 0.8694241500316401\n",
      "-------------need to check-------------\n"
     ]
    },
    {
     "data": {
      "application/vnd.jupyter.widget-view+json": {
       "model_id": "69509690d7d847afa58441a66c95d112",
       "version_major": 2,
       "version_minor": 0
      },
      "text/plain": [
       "interactive(children=(IntSlider(value=63, description='z', max=127), Output()), _dom_classes=('widget-interact…"
      ]
     },
     "metadata": {},
     "output_type": "display_data"
    },
    {
     "name": "stdout",
     "output_type": "stream",
     "text": [
      "Patient id: 7_02949843\n",
      "volume_gt-volume_pred 0.0916480040969816\n",
      "volume_gt-volume_pred2 37.90899369466401\n",
      "dice 0.9216631275320515\n",
      "dice2 0.6509677145725044\n"
     ]
    },
    {
     "data": {
      "application/vnd.jupyter.widget-view+json": {
       "model_id": "90d8ac6ff22d4ed18d49db09649887c2",
       "version_major": 2,
       "version_minor": 0
      },
      "text/plain": [
       "interactive(children=(IntSlider(value=63, description='z', max=127), Output()), _dom_classes=('widget-interact…"
      ]
     },
     "metadata": {},
     "output_type": "display_data"
    },
    {
     "name": "stdout",
     "output_type": "stream",
     "text": [
      "Patient id: 8_02951189\n",
      "volume_gt-volume_pred 3.8487041720504784\n",
      "volume_gt-volume_pred2 30.760449375099206\n",
      "dice 0.8821528115298015\n",
      "dice2 0.6414231680452221\n"
     ]
    },
    {
     "data": {
      "application/vnd.jupyter.widget-view+json": {
       "model_id": "b91b505d61934c828fe120da2b118b2e",
       "version_major": 2,
       "version_minor": 0
      },
      "text/plain": [
       "interactive(children=(IntSlider(value=63, description='z', max=127), Output()), _dom_classes=('widget-interact…"
      ]
     },
     "metadata": {},
     "output_type": "display_data"
    },
    {
     "name": "stdout",
     "output_type": "stream",
     "text": [
      "Patient id: 9_02951192\n",
      "volume_gt-volume_pred 5.772288258041382\n",
      "volume_gt-volume_pred2 17.81248079627992\n",
      "dice 0.8569922394870111\n",
      "dice2 0.7417819481017196\n"
     ]
    },
    {
     "data": {
      "application/vnd.jupyter.widget-view+json": {
       "model_id": "c699f501e176473594c1f15a8d479069",
       "version_major": 2,
       "version_minor": 0
      },
      "text/plain": [
       "interactive(children=(IntSlider(value=63, description='z', max=127), Output()), _dom_classes=('widget-interact…"
      ]
     },
     "metadata": {},
     "output_type": "display_data"
    },
    {
     "name": "stdout",
     "output_type": "stream",
     "text": [
      "=============\n",
      "Avg dice: 0.8864122792605036\n",
      "Avg dice with SDF: 0.748206527282191\n",
      "Avg volume estimation dist: 3.0432257360427855\n",
      "Avg volume estimation dist with SDF: 16.3898887326851\n",
      "=============\n",
      "==============================\n",
      "Directory:  /data/hanyang_Prostate/Prostate/prostate_1c_test_result/test_morph_close5_2task/vnet_2task_30000_fold5/test/\n",
      "Patient id: 0_02953538\n",
      "volume_gt-volume_pred 1.2794880571975753\n",
      "volume_gt-volume_pred2 15.977472714248673\n",
      "dice 0.8981482145289525\n",
      "dice2 0.7160859360895468\n"
     ]
    },
    {
     "data": {
      "application/vnd.jupyter.widget-view+json": {
       "model_id": "ac8631d3e7f24d4f97723a3a7912d37b",
       "version_major": 2,
       "version_minor": 0
      },
      "text/plain": [
       "interactive(children=(IntSlider(value=63, description='z', max=127), Output()), _dom_classes=('widget-interact…"
      ]
     },
     "metadata": {},
     "output_type": "display_data"
    },
    {
     "name": "stdout",
     "output_type": "stream",
     "text": [
      "Patient id: 1_02953540\n",
      "volume_gt-volume_pred 3.768320168457034\n",
      "volume_gt-volume_pred2 1.5754240704269442\n",
      "dice 0.8676326815642458\n",
      "dice2 0.9064084079182423\n"
     ]
    },
    {
     "data": {
      "application/vnd.jupyter.widget-view+json": {
       "model_id": "170d16faba7049b4aa659c6c79677632",
       "version_major": 2,
       "version_minor": 0
      },
      "text/plain": [
       "interactive(children=(IntSlider(value=63, description='z', max=127), Output()), _dom_classes=('widget-interact…"
      ]
     },
     "metadata": {},
     "output_type": "display_data"
    },
    {
     "name": "stdout",
     "output_type": "stream",
     "text": [
      "Patient id: 2_02953784\n",
      "volume_gt-volume_pred 2.6787841197509827\n",
      "volume_gt-volume_pred2 4.939264220802311\n",
      "dice 0.9185619273522162\n",
      "dice2 0.8723101989710332\n"
     ]
    },
    {
     "data": {
      "application/vnd.jupyter.widget-view+json": {
       "model_id": "13cf9691ceb54e4ca143e7623d7a1d1f",
       "version_major": 2,
       "version_minor": 0
      },
      "text/plain": [
       "interactive(children=(IntSlider(value=63, description='z', max=127), Output()), _dom_classes=('widget-interact…"
      ]
     },
     "metadata": {},
     "output_type": "display_data"
    },
    {
     "name": "stdout",
     "output_type": "stream",
     "text": [
      "Patient id: 3_02953958\n",
      "volume_gt-volume_pred 5.591040249938974\n",
      "volume_gt-volume_pred2 0.9425920421371465\n",
      "dice 0.89236625443522\n",
      "dice2 0.9071442585274251\n"
     ]
    },
    {
     "data": {
      "application/vnd.jupyter.widget-view+json": {
       "model_id": "091751ab4d964e41b9a0d07c0b69b739",
       "version_major": 2,
       "version_minor": 0
      },
      "text/plain": [
       "interactive(children=(IntSlider(value=63, description='z', max=127), Output()), _dom_classes=('widget-interact…"
      ]
     },
     "metadata": {},
     "output_type": "display_data"
    },
    {
     "name": "stdout",
     "output_type": "stream",
     "text": [
      "Patient id: 4_02954359\n",
      "volume_gt-volume_pred 3.5671041594619766\n",
      "volume_gt-volume_pred2 0.9835520439681993\n",
      "dice 0.8849770414300208\n",
      "dice2 0.8797380043589064\n",
      "-------------need to check-------------\n"
     ]
    },
    {
     "data": {
      "application/vnd.jupyter.widget-view+json": {
       "model_id": "ea1e5a4246ad4e34af393797489a3396",
       "version_major": 2,
       "version_minor": 0
      },
      "text/plain": [
       "interactive(children=(IntSlider(value=63, description='z', max=127), Output()), _dom_classes=('widget-interact…"
      ]
     },
     "metadata": {},
     "output_type": "display_data"
    },
    {
     "name": "stdout",
     "output_type": "stream",
     "text": [
      "Patient id: 5_02954360\n",
      "volume_gt-volume_pred 4.09600018310547\n",
      "volume_gt-volume_pred2 5.4072322417221095\n",
      "dice 0.8702594810379242\n",
      "dice2 0.8213788334745474\n"
     ]
    },
    {
     "data": {
      "application/vnd.jupyter.widget-view+json": {
       "model_id": "83cbc56f1de8402c930e21a5f15381a1",
       "version_major": 2,
       "version_minor": 0
      },
      "text/plain": [
       "interactive(children=(IntSlider(value=63, description='z', max=127), Output()), _dom_classes=('widget-interact…"
      ]
     },
     "metadata": {},
     "output_type": "display_data"
    },
    {
     "name": "stdout",
     "output_type": "stream",
     "text": [
      "Patient id: 6_02954361\n",
      "volume_gt-volume_pred 6.285824280998234\n",
      "volume_gt-volume_pred2 1.8897920844802876\n",
      "dice 0.8511103404063015\n",
      "dice2 0.8543247919376634\n"
     ]
    },
    {
     "data": {
      "application/vnd.jupyter.widget-view+json": {
       "model_id": "7ac89ac35656443d8eb10f987753185e",
       "version_major": 2,
       "version_minor": 0
      },
      "text/plain": [
       "interactive(children=(IntSlider(value=63, description='z', max=127), Output()), _dom_classes=('widget-interact…"
      ]
     },
     "metadata": {},
     "output_type": "display_data"
    },
    {
     "name": "stdout",
     "output_type": "stream",
     "text": [
      "Patient id: 7_02954978\n",
      "volume_gt-volume_pred 3.9941121785507185\n",
      "volume_gt-volume_pred2 6.457344288665773\n",
      "dice 0.8690048110924068\n",
      "dice2 0.8309514343704881\n"
     ]
    },
    {
     "data": {
      "application/vnd.jupyter.widget-view+json": {
       "model_id": "fca69d1c71c347d9ab1bfd53a7223ba0",
       "version_major": 2,
       "version_minor": 0
      },
      "text/plain": [
       "interactive(children=(IntSlider(value=63, description='z', max=127), Output()), _dom_classes=('widget-interact…"
      ]
     },
     "metadata": {},
     "output_type": "display_data"
    },
    {
     "name": "stdout",
     "output_type": "stream",
     "text": [
      "Patient id: 8_02955289\n",
      "volume_gt-volume_pred 1.6609280742492665\n",
      "volume_gt-volume_pred2 8.827392394615176\n",
      "dice 0.7057068703200978\n",
      "dice2 0.5287208973513055\n"
     ]
    },
    {
     "data": {
      "application/vnd.jupyter.widget-view+json": {
       "model_id": "5afa8b71d36143489a703e718da783a2",
       "version_major": 2,
       "version_minor": 0
      },
      "text/plain": [
       "interactive(children=(IntSlider(value=63, description='z', max=127), Output()), _dom_classes=('widget-interact…"
      ]
     },
     "metadata": {},
     "output_type": "display_data"
    },
    {
     "name": "stdout",
     "output_type": "stream",
     "text": [
      "Patient id: 9_02955569\n",
      "volume_gt-volume_pred 1.334784059669488\n",
      "volume_gt-volume_pred2 13.9002886213913\n",
      "dice 0.9277665167788883\n",
      "dice2 0.7323476074879343\n"
     ]
    },
    {
     "data": {
      "application/vnd.jupyter.widget-view+json": {
       "model_id": "281fb86b36e74f1d842597cd93f09ca3",
       "version_major": 2,
       "version_minor": 0
      },
      "text/plain": [
       "interactive(children=(IntSlider(value=63, description='z', max=127), Output()), _dom_classes=('widget-interact…"
      ]
     },
     "metadata": {},
     "output_type": "display_data"
    },
    {
     "name": "stdout",
     "output_type": "stream",
     "text": [
      "=============\n",
      "Avg dice: 0.8685534138946274\n",
      "Avg dice with SDF: 0.8049410370487091\n",
      "Avg volume estimation dist: 3.425638553137972\n",
      "Avg volume estimation dist with SDF: 6.090035472245792\n",
      "=============\n"
     ]
    }
   ],
   "source": [
    "import os\n",
    "# import monai\n",
    "import nibabel as nib\n",
    "import numpy as np\n",
    "import matplotlib.pyplot as plt\n",
    "from ipywidgets import interact\n",
    "from medpy import metric\n",
    "#%matplotlib inline\n",
    "# from monai.transforms import Compose, LoadImaged, EnsureChannelFirstd, Orientationd, Spacingd\n",
    "# from monai.data import (\n",
    "#     DataLoader,\n",
    "#     CacheDataset,\n",
    "#     load_decathlon_datalist,\n",
    "# )\n",
    "# import pandas as pd\n",
    "# import matplotlib.pyplot as plt\n",
    "# import SimpleITK as sitk\n",
    "# from monai.transforms import (\n",
    "#     EnsureChannelFirstd,\n",
    "#     Compose,\n",
    "#     LoadImaged,\n",
    "#     Orientationd,\n",
    "#     RandFlipd,\n",
    "#     Spacingd,\n",
    "#     RandRotate90d,\n",
    "#     CenterSpatialCropd,\n",
    "#     RandSpatialCropd\n",
    "# )\n",
    "# # Enable deterministic training for reproducibility\n",
    "# monai.config.print_config()\n",
    "# monai.utils.set_determinism(seed=0)\n",
    "\n",
    "def read_nifti_spacing_and_mask_count(nifti_file_path):\n",
    "    try:\n",
    "        # NIfTI 파일 열기\n",
    "        img = nib.load(nifti_file_path)\n",
    "\n",
    "        # spacing 정보 추출\n",
    "        spacing = img.header.get_zooms()\n",
    "        if 'sdf' in nifti_file_path:\n",
    "            sdf_label = img.get_fdata()\n",
    "            label_based_on_sdf = np.where(sdf_label<0,1,0)\n",
    "            mask_voxel_count = np.count_nonzero(label_based_on_sdf!=0)\n",
    "        else:\n",
    "            mask_voxel_count = np.count_nonzero(img.get_fdata()!=0)\n",
    "        return mask_voxel_count, spacing[0], spacing[1], spacing[2]\n",
    "    except Exception as e:\n",
    "        print(f\"Error reading NIfTI file: {str(e)}\")\n",
    "        return None\n",
    "\n",
    "# Define a function to calculate the volume\n",
    "def calculate_volume(mask_voxel_count, pixel_spacing_x, pixel_spacing_y, slice_gap):\n",
    "#     return np.round((mask_voxel_count * pixel_spacing_x * pixel_spacing_y * slice_gap)/1000, 2)  ## mm3 to cc\n",
    "    return (mask_voxel_count * pixel_spacing_x * pixel_spacing_y * slice_gap)/1000\n",
    "\n",
    "\n",
    "# directory_path = \"/data/hanyang_Prostate/50_example/trim/sl_data_wo_norm_morphol/centerCrop_350_350_200/label_trim/\"#\"/data/hanyang_Prostate/50_example/original/1_50_trim_20230130/Total volume/\"\n",
    "# class_name = 1\n",
    "\n",
    "# if class_name == 1:\n",
    "#     datasets = \"/data/hanyang_Prostate/50_example/trim/sl_data/centerCrop_350_350_200/dataset_fold_testjinjin.json\"\n",
    "#     print(\"total_prostate test : dataset.json\")\n",
    "# # if args.class_name == 2:\n",
    "# #     datasets = args.root_path + \"/dataset_2_fold{}.json\".format(args.fold)\n",
    "# #     print(\"transition zone train :dataset_2.json\")\n",
    "# files = load_decathlon_datalist(datasets, True, \"training\")\n",
    "\n",
    "# transforms = Compose(\n",
    "#         [\n",
    "#             LoadImaged(keys=[\"image\", \"label\"]),\n",
    "#             EnsureChannelFirstd(keys=[\"image\", \"label\"]),\n",
    "#             Orientationd(keys=[\"image\", \"label\"], axcodes=\"RAI\"),       #ALI\n",
    "#             Spacingd(\n",
    "#                 keys=[\"image\", \"label\"],\n",
    "#                 pixdim=(0.8,0.8,0.8),\n",
    "#                 mode=(\"bilinear\", \"nearest\"),\n",
    "#             ),\n",
    "#             CenterSpatialCropd(keys=['image', 'label'], roi_size=(176,176,128)),\n",
    "# #             RandSpatialCropd(keys=['image', 'label'], roi_size=(256,256,128), random_size=False),#roi_size=(272,272,144), random_size=False),\n",
    "#             RandFlipd(\n",
    "#                 keys=[\"image\", \"label\"],\n",
    "#                 spatial_axis=[0],\n",
    "#                 prob=0.10,\n",
    "#             ),\n",
    "#             RandFlipd(\n",
    "#                 keys=[\"image\", \"label\"],\n",
    "#                 spatial_axis=[1],\n",
    "#                 prob=0.10,\n",
    "#             ),\n",
    "#             RandFlipd(\n",
    "#                 keys=[\"image\", \"label\"],\n",
    "#                 spatial_axis=[2],\n",
    "#                 prob=0.10,\n",
    "#             ),\n",
    "#             RandRotate90d(\n",
    "#                 keys=[\"image\", \"label\"],\n",
    "#                 prob=0.10,\n",
    "#                 max_k=3,\n",
    "#             ),\n",
    "\n",
    "#         ]\n",
    "# )\n",
    "\n",
    "# db = CacheDataset(\n",
    "#     data=files, transform=transforms, cache_num=6, cache_rate=1.0, num_workers=4\n",
    "# )\n",
    "# print(len(db))\n",
    "# for _ in range(len(db)):\n",
    "       \n",
    "#     mask_voxel_count2 = np.count_nonzero(db[_]['label'][0]!=0)\n",
    "#     volume2 = calculate_volume(mask_voxel_count2, transforms.transforms[3].spacing_transform.pixdim[0], transforms.transforms[3].spacing_transform.pixdim[1], transforms.transforms[3].spacing_transform.pixdim[2])\n",
    "    \n",
    "#     tmp_itk = sitk.GetImageFromArray(db[_]['label'][0])\n",
    "#     tmp_itk.SetSpacing((0.8 ,0.8 ,0.8))\n",
    "#     sitk.WriteImage(tmp_itk, \"tmp.nii.gz\")\n",
    "#     tmp_mask_voxel_count, tmp_pixel_spacing_x, tmp_pixel_spacing_y, tmp_slice_gap = read_nifti_spacing_and_mask_count(\"tmp.nii.gz\")\n",
    "#     tmp_volume = calculate_volume(tmp_mask_voxel_count, tmp_pixel_spacing_x, tmp_pixel_spacing_y, tmp_slice_gap)\n",
    "    \n",
    "#     print(db[_].keys())\n",
    "#     no = db[_]['label_meta_dict']['filename_or_obj'].split('/')[-1][:8]\n",
    "    \n",
    "#     original_nifti_file_path=''\n",
    "#     # 디렉토리 탐색\n",
    "#     for root, dirs, files in os.walk(directory_path):\n",
    "#         for file in files:\n",
    "#             if no in file:\n",
    "#                 # 검색한 문자열을 포함한 파일의 전체 경로 출력\n",
    "#                 original_nifti_file_path = os.path.join(root, file)\n",
    "# #                 print(\"\\t Original file name:\", original_nifti_file_path)\n",
    "                \n",
    "#     mask_voxel_count, pixel_spacing_x, pixel_spacing_y, slice_gap = read_nifti_spacing_and_mask_count(original_nifti_file_path)\n",
    "#     volume = calculate_volume(mask_voxel_count, pixel_spacing_x, pixel_spacing_y, slice_gap)\n",
    "    \n",
    "#     print(f\"No: {no}, Volume: {np.round(volume,1)} (cc), Transformed Volume: {np.round(volume2,1)} (cc)\")\n",
    "#     print(f\"tmp_volume: {np.round(tmp_volume,1)} (cc)\")\n",
    "#     print(f\"\\t Original Pixel Spacing (x): {np.round(float(pixel_spacing_x),3)}\")\n",
    "#     print(f\"\\t Original Pixel Spacing (y): {np.round(float(pixel_spacing_y),3)}\")\n",
    "#     print(f\"\\t Original Slice Gap: {np.round(float(slice_gap),3)}\")\n",
    "#     print('------------------------------------------------------')\n",
    "# # print('done')\n",
    "\n",
    "\n",
    "# import os\n",
    "# import numpy as np\n",
    "\n",
    "# 디렉토리 경로 설정\n",
    "base_directory = '/data/hanyang_Prostate/Prostate/prostate_1c_test_result/test_morph_close5_2task/'\n",
    "base_directory2 = '/data/hanyang_Prostate/Prostate/prostate_1c_test_result/test_morph_close5/'\n",
    "directory_paths = [os.path.join(base_directory, f'vnet_2task_30000_fold{i}/test/') for i in range(1, 6)]\n",
    "directory_paths2 = [os.path.join(base_directory2, f'vnet_30000_fold{i}/test/') for i in range(1, 6)]\n",
    "# directory_path_realgt = '/data/hanyang_Prostate/50_example/original/1_50_trim_20230130/Total volume/'\n",
    "\n",
    "# 초기화할 리스트\n",
    "a_lists = [[] for _ in range(5)]  # 각 폴드의 volume_gt 리스트\n",
    "b_lists = [[] for _ in range(5)]  # 각 폴드의 volume_pred 리스트\n",
    "# c_lists = [[] for _ in range(5)]  # 각 폴드의 volume_realgt 리스트\n",
    "d_lists = [[] for _ in range(5)]  # 각 폴드의 volume_TRUS 리스트\n",
    "cnt = 0\n",
    "# 디렉토리별로 처리\n",
    "for fold_idx, directory_path in enumerate(directory_paths, start=1):\n",
    "    print(\"==============================\\nDirectory: \", directory_path)\n",
    "    curr_fold_dices = []; curr_fold_dices_sdf = [];\n",
    "    curr_fold_ves = []; curr_fold_ves_sdf = [];\n",
    "    # 디렉토리 내의 모든 파일 검색\n",
    "    for filename in os.listdir(directory_path):\n",
    "        # 파일 이름이 \"_gt.nii.gz\"로 끝나는 경우에만 처리\n",
    "        if filename.endswith('_gt.nii.gz'):\n",
    "            print(\"Patient id:\",filename[:-10])\n",
    "            # 파일의 전체 경로 생성\n",
    "            gt_file_path = os.path.join(directory_path, filename)\n",
    "            \n",
    "            # 해당 _gt 파일과 동일한 이름 구조를 가진 _pred 파일 찾기\n",
    "            pred_filename = filename.replace('_gt.nii.gz', '_pred.nii.gz')\n",
    "            sdf_filename = filename.replace('_gt.nii.gz', '_sdf.nii.gz')\n",
    "            pred_file_path = os.path.join(directory_path, pred_filename)\n",
    "            sdf_file_path = os.path.join(directory_path, sdf_filename)\n",
    "            pred_file_path2 = os.path.join(directory_paths2[fold_idx-1], pred_filename)\n",
    "            \n",
    "            # 해당 _gt 파일과 동일한 이름 구조를 가진 _image 파일 찾기\n",
    "            img_filename = filename.replace('_gt.nii.gz', '_img.nii.gz')\n",
    "            img_file_path = os.path.join(directory_path, img_filename)\n",
    "    \n",
    "            # _pred 파일이 존재하면 계산 수행\n",
    "            if os.path.exists(pred_file_path):\n",
    "                # NIfTI 파일 열기\n",
    "                gt_label = nib.load(gt_file_path).get_fdata()\n",
    "                gt_label = np.moveaxis(gt_label, [0, 1, 2], [1, 0, 2])  # 축을 교환합니다.\n",
    "                pred_label = nib.load(pred_file_path).get_fdata()\n",
    "                pred_label = np.moveaxis(pred_label, [0, 1, 2], [1, 0, 2])  # 축을 교환합니다.\n",
    "                sdf_label = nib.load(sdf_file_path).get_fdata()\n",
    "                sdf_label = np.moveaxis(sdf_label, [0, 1, 2], [1, 0, 2])  # 축을 교환합니다.\n",
    "#                 print(\"jinjin check :::\", sdf_label.min(), sdf_label.max())\n",
    "                label_based_on_sdf = np.where(sdf_label<0,1,0)\n",
    "#                 print(\"jinjin check:::\", sdf_label.shape)\n",
    "#                 print(\"jinjin check:::\", label_based_on_sdf.shape)\n",
    "                pred_label2 = nib.load(pred_file_path2).get_fdata()\n",
    "                pred_label2 = np.moveaxis(pred_label2, [0, 1, 2], [1, 0, 2])  # 축을 교환합니다.\n",
    "                ct_img = nib.load(img_file_path).get_fdata()\n",
    "                ct_img = np.moveaxis(ct_img, [0, 1, 2], [1, 0, 2])  # 축을 교환합니다.\n",
    "#                 print(\"gt_label.shape;\",gt_label.shape)\n",
    "#                 print(\"pred_label.shape;\",pred_label.shape)\n",
    "#                 print(\"ct_img.shape;\",ct_img.shape)\n",
    "                # _gt 파일의 정보를 읽어오고 volume 계산\n",
    "                mask_voxel_count_gt, pixel_spacing_x_gt, pixel_spacing_y_gt, slice_gap_gt = read_nifti_spacing_and_mask_count(gt_file_path)\n",
    "                volume_gt = calculate_volume(mask_voxel_count_gt, pixel_spacing_x_gt, pixel_spacing_y_gt, slice_gap_gt)\n",
    "                \n",
    "                # _pred 파일의 정보를 읽어오고 volume 계산\n",
    "                mask_voxel_count_pred, pixel_spacing_x_pred, pixel_spacing_y_pred, slice_gap_pred = read_nifti_spacing_and_mask_count(pred_file_path)\n",
    "                volume_pred = calculate_volume(mask_voxel_count_pred, pixel_spacing_x_pred, pixel_spacing_y_pred, slice_gap_pred)\n",
    "                \n",
    "                # _pred 파일의 정보를 읽어오고 volume 계산\n",
    "                mask_voxel_count_pred2, pixel_spacing_x_pred2, pixel_spacing_y_pred2, slice_gap_pred2 = read_nifti_spacing_and_mask_count(sdf_file_path)#pred_file_path2)\n",
    "                volume_pred2 = calculate_volume(mask_voxel_count_pred2, pixel_spacing_x_pred2, pixel_spacing_y_pred2, slice_gap_pred2)\n",
    "                \n",
    "                ve = np.abs(volume_gt-volume_pred)\n",
    "                ve2 = np.abs(volume_gt-volume_pred2)\n",
    "                print(\"volume_gt-volume_pred\", ve)\n",
    "                print(\"volume_gt-volume_pred2\", ve2)\n",
    "                \n",
    "                curr_fold_ves.append(ve)\n",
    "                curr_fold_ves_sdf.append(ve2)\n",
    "                \n",
    "                dice = metric.binary.dc(pred_label, gt_label)\n",
    "                dice2 = metric.binary.dc(label_based_on_sdf, gt_label)\n",
    "                print(\"dice\", dice)\n",
    "                print(\"dice2\",dice2)\n",
    "                \n",
    "                curr_fold_dices.append(dice)\n",
    "                curr_fold_dices_sdf.append(dice2)\n",
    "                \n",
    "                if dice>dice2 and ve>ve2:\n",
    "                    print(\"-------------need to check-------------\")\n",
    "                vmax = np.max(np.abs(sdf_label))\n",
    "                vmin = -vmax\n",
    "                @interact(z=(0,ct_img.shape[2]-1))\n",
    "                def visualize_data(z):\n",
    "#                     ct_img = ct_img.get_fdata()\n",
    "                    fig, axes = plt.subplots(2, 2, figsize=(10, 10))  # 5개의 subplot을 생성합니다.\n",
    "                    # 첫 번째 subplot에는 원본 이미지를 표시합니다.\n",
    "                    axes[0,0].imshow(ct_img[:, :, z], cmap='gray')\n",
    "                    axes[0,0].imshow(sdf_label[:, :, z], cmap='bwr', alpha=0.7, vmin=vmin, vmax=vmax)\n",
    "                    axes[0,0].set_title('CT Image slices')\n",
    "                    axes[0,0].axis('off')\n",
    "                    # 두 번째 subplot에는 GT label z번째 슬라이스를 표시합니다.\n",
    "                    axes[1,0].imshow(ct_img[:, :, z], cmap='gray')\n",
    "                    axes[1,0].imshow(np.where(gt_label[:, :, z] == 1, gt_label[:, :, z], np.nan), cmap='cool', alpha=0.3)\n",
    "                    axes[1,0].set_title('GT mask slices')\n",
    "                    axes[1,0].axis('off')\n",
    "                    # 세 번째 subplot에는 Pred label의 z번째 슬라이스를 표시합니다.\n",
    "                    axes[1,1].imshow(ct_img[:, :, z], cmap='gray')\n",
    "                    axes[1,1].imshow(np.where(pred_label[:, :, z] == 1, pred_label[:, :, z], np.nan), cmap='autumn', alpha=0.3)\n",
    "                    axes[1,1].set_title('Pred mask slices')\n",
    "                    axes[1,1].axis('off')\n",
    "                    ## 볼륨값이랑 dice 계산해서 output하게 하자..\n",
    "                    \n",
    "                    # 세 번째 subplot에는 Pred label의 z번째 슬라이스를 표시합니다.\n",
    "#                     blended_mask = np.zeros_like(gt_label[:, :, z])  # blended_mask를 모두 0으로 초기화합니다.\n",
    "#                     gt_mask = np.where(gt_label[:, :, z] == 1, gt_label[:, :, z], 0)\n",
    "#                     pred_mask = np.where(pred_label[:, :, z] == 1, pred_label[:, :, z], 0)\n",
    "#                     blended_mask = np.where(gt_mask + pred_mask > 0, 0.7 * gt_mask + 0.3 * pred_mask, np.nan)\n",
    "                    axes[0,1].imshow(np.where(gt_label[:, :, z] == 1, gt_label[:, :, z], np.nan), cmap='cool', alpha=0.5)\n",
    "                    \n",
    "#                     axes[0,1].imshow(np.where(pred_label2[:, :, z] == 1, pred_label2[:, :, z], np.nan), cmap='winter', alpha=0.5)\n",
    "                    axes[0,1].imshow(np.where(label_based_on_sdf[:, :, z] == 1, label_based_on_sdf[:, :, z], np.nan), cmap='winter', alpha=0.5)\n",
    "                    axes[0,1].imshow(np.where(pred_label[:, :, z] == 1, pred_label[:, :, z], np.nan), cmap='autumn', alpha=0.5)\n",
    "                    axes[0,1].set_title('GT & Pred mask slices')\n",
    "                    axes[0,1].axis('off')\n",
    "                    plt.show()\n",
    "#                 visualize_data()\n",
    "#                 break\n",
    "                # _gt 파일의 정보를 읽어오고 volume 계산\n",
    "#                 mask_voxel_count_gt, pixel_spacing_x_gt, pixel_spacing_y_gt, slice_gap_gt = read_nifti_spacing_and_mask_count(gt_file_path)\n",
    "#                 volume_gt = calculate_volume(mask_voxel_count_gt, pixel_spacing_x_gt, pixel_spacing_y_gt, slice_gap_gt)\n",
    "                \n",
    "#                 # _pred 파일의 정보를 읽어오고 volume 계산\n",
    "#                 mask_voxel_count_pred, pixel_spacing_x_pred, pixel_spacing_y_pred, slice_gap_pred = read_nifti_spacing_and_mask_count(pred_file_path)\n",
    "#                 volume_pred = calculate_volume(mask_voxel_count_pred, pixel_spacing_x_pred, pixel_spacing_y_pred, slice_gap_pred)\n",
    "                \n",
    "#                 # 검색할 문자열 설정\n",
    "#                 a_value = filename.split(\"_\")[1]\n",
    "    \n",
    "#                 # /data/hanyang_Prostate/50_example/original/1_50_trim_20230130/Total volume/ 디렉토리 내의 파일 검색\n",
    "#                 for realgt_filename in os.listdir(directory_path_realgt):\n",
    "#                     # 파일 이름에 검색할 문자열이 포함되어 있는지 확인\n",
    "#                     if a_value in realgt_filename:\n",
    "#                         mask_voxel_count_realgt, pixel_spacing_x_realgt, pixel_spacing_y_realgt, slice_gap_realgt = read_nifti_spacing_and_mask_count(os.path.join(directory_path_realgt, realgt_filename))\n",
    "#                         volume_realgt = calculate_volume(mask_voxel_count_realgt, pixel_spacing_x_realgt, pixel_spacing_y_realgt, slice_gap_realgt)\n",
    "                        \n",
    "#                         # 값 저장\n",
    "#                         if a_value in TRUS:\n",
    "#                             cnt += 1\n",
    "#                             a_lists[fold_idx - 1].append(volume_gt)\n",
    "#                             b_lists[fold_idx - 1].append(volume_pred)\n",
    "#                             c_lists[fold_idx - 1].append(volume_realgt)\n",
    "#                             d_lists[fold_idx - 1].append(TRUS[a_value])\n",
    "#                             # 출력\n",
    "#                             print(f\"No.: {a_value}\")\n",
    "#                             print(f\"\\t Volume (TRUS): {TRUS[a_value]}\")\n",
    "#                             print(f\"\\t Pixel Spacing X (realgt): {np.round(float(pixel_spacing_x_realgt),3)}\")\n",
    "#                             print(f\"\\t Volume (realgt): {np.round(volume_realgt,1)}\")\n",
    "#                             print(f\"\\t Pixel Spacing X (gt): {np.round(float(pixel_spacing_x_gt),3)}\")\n",
    "#                             print(f\"\\t Volume (gt): {np.round(volume_gt,1)}\")\n",
    "#                             print(f\"\\t Pixel Spacing X (pred): {np.round(float(pixel_spacing_x_pred),3)}\")\n",
    "#                             print(f\"\\t Volume (pred): {np.round(volume_pred,1)}\")\n",
    "#                             print(\"-----------------------------------------\")\n",
    "    curr_fold_dices = np.array(curr_fold_dices)\n",
    "    curr_fold_dices_sdf = np.array(curr_fold_dices_sdf)\n",
    "    curr_fold_ves = np.array(curr_fold_ves)\n",
    "    curr_fold_ves_sdf = np.array(curr_fold_ves_sdf)\n",
    "    print(\"=============\")\n",
    "    print(f\"Avg dice: {np.mean(curr_fold_dices)}\")\n",
    "    print(f\"Avg dice with SDF: {np.mean(curr_fold_dices_sdf)}\")\n",
    "    print(f\"Avg volume estimation dist: {np.mean(curr_fold_ves)}\")\n",
    "    print(f\"Avg volume estimation dist with SDF: {np.mean(curr_fold_ves_sdf)}\")\n",
    "    print(\"=============\")\n",
    "# print(cnt)"
   ]
  },
  {
   "cell_type": "code",
   "execution_count": 18,
   "metadata": {},
   "outputs": [
    {
     "name": "stdout",
     "output_type": "stream",
     "text": [
      "[[], [], [], [], []]\n",
      "------\n",
      "[[], [], [], [], []]\n"
     ]
    }
   ],
   "source": [
    "print(a_lists)\n",
    "print(\"------\")\n",
    "print(b_lists)"
   ]
  },
  {
   "cell_type": "code",
   "execution_count": null,
   "metadata": {},
   "outputs": [],
   "source": []
  }
 ],
 "metadata": {
  "kernelspec": {
   "display_name": "prostate",
   "language": "python",
   "name": "prostate"
  },
  "language_info": {
   "codemirror_mode": {
    "name": "ipython",
    "version": 3
   },
   "file_extension": ".py",
   "mimetype": "text/x-python",
   "name": "python",
   "nbconvert_exporter": "python",
   "pygments_lexer": "ipython3",
   "version": "3.8.17"
  }
 },
 "nbformat": 4,
 "nbformat_minor": 2
}
